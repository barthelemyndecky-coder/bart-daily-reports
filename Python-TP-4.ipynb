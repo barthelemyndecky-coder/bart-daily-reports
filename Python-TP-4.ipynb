{
 "cells": [
  {
   "cell_type": "markdown",
   "id": "d68c1dee",
   "metadata": {
    "id": "d68c1dee"
   },
   "source": [
    "# Practical_4: Flow control"
   ]
  },
  {
   "cell_type": "markdown",
   "id": "f4355175-ed6e-4434-854a-4332e9e66867",
   "metadata": {},
   "source": [
    "### Exercise 1:\n",
    "Write a Python program that checks if a number is positive or negative."
   ]
  },
  {
   "cell_type": "code",
   "execution_count": 1,
   "id": "bca307ec-8f7e-4379-a01c-f507e092f1a4",
   "metadata": {},
   "outputs": [
    {
     "name": "stdout",
     "output_type": "stream",
     "text": [
      "The number 10 is **Positive**.\n"
     ]
    }
   ],
   "source": [
    "number = 10  # Example number\n",
    "\n",
    "if number > 0:\n",
    "    print(f\"The number {number} is **Positive**.\")\n",
    "elif number < 0:\n",
    "    print(f\"The number {number} is **Negative**.\")\n",
    "else:\n",
    "    print(f\"The number {number} is **Zero**.\")"
   ]
  },
  {
   "cell_type": "markdown",
   "id": "5dcd054c-11a2-4957-9a88-bef5bdba2de8",
   "metadata": {},
   "source": [
    "### Exercise 2:\n",
    "Write a Python function that checks if a string starts with a vowel"
   ]
  },
  {
   "cell_type": "code",
   "execution_count": 2,
   "id": "31aa7910-3ad9-407b-a660-a8d7d1ff4eab",
   "metadata": {},
   "outputs": [
    {
     "name": "stdout",
     "output_type": "stream",
     "text": [
      "'Apple' starts with a vowel: True\n",
      "'Banana' starts with a vowel: False\n"
     ]
    }
   ],
   "source": [
    "def starts_with_vowel(text):\n",
    "    vowels = \"aeiouAEIOU\"\n",
    "    \n",
    "    if text and text[0] in vowels:\n",
    "        return True\n",
    "    else:\n",
    "        return False\n",
    "\n",
    "# Example usage\n",
    "string1 = \"Apple\"\n",
    "string2 = \"Banana\"\n",
    "\n",
    "print(f\"'{string1}' starts with a vowel: {starts_with_vowel(string1)}\")\n",
    "print(f\"'{string2}' starts with a vowel: {starts_with_vowel(string2)}\")"
   ]
  },
  {
   "cell_type": "markdown",
   "id": "ce78708a-4373-4a6b-8557-d9d68b53726a",
   "metadata": {},
   "source": [
    "### Exercise 3:\n",
    "Write a Python program that takes a list of integers and prints \"Even\" for each even number and \"Odd\" for each odd number."
   ]
  },
  {
   "cell_type": "code",
   "execution_count": 39,
   "id": "6e0fdcd2-f485-4bac-b1b5-88f66e7c45c1",
   "metadata": {},
   "outputs": [
    {
     "name": "stdout",
     "output_type": "stream",
     "text": [
      "The number 4 is **Even**.\n",
      "The number 7 is **Odd**.\n",
      "The number 12 is **Even**.\n",
      "The number 5 is **Odd**.\n",
      "The number 8 is **Even**.\n"
     ]
    }
   ],
   "source": [
    "numbers_list = [4, 7, 12, 5, 8]\n",
    "\n",
    "for number in numbers_list:\n",
    "    if number % 2 == 0:\n",
    "        print(f\"The number {number} is **Even**.\")\n",
    "    else:\n",
    "        print(f\"The number {number} is **Odd**.\")"
   ]
  },
  {
   "cell_type": "markdown",
   "id": "1fa79417-fb7b-40b7-965b-8f54ebcdd09d",
   "metadata": {},
   "source": [
    "### Exercise 4:\n",
    "Write a Python program that checks if a given year is a leap year."
   ]
  },
  {
   "cell_type": "code",
   "execution_count": 38,
   "id": "7af5b8a0-1070-4136-a2c7-6dd48c6e8532",
   "metadata": {},
   "outputs": [
    {
     "name": "stdout",
     "output_type": "stream",
     "text": [
      "The year 2024 **is** a leap year.\n"
     ]
    }
   ],
   "source": [
    "year = 2024  # Example year\n",
    "\n",
    "is_leap = (year % 4 == 0 and year % 100 != 0) or (year % 400 == 0)\n",
    "\n",
    "if is_leap:\n",
    "    print(f\"The year {year} **is** a leap year.\")\n",
    "else:\n",
    "    print(f\"The year {year} **is not** a leap year.\")"
   ]
  },
  {
   "cell_type": "markdown",
   "id": "e58295b2-1cac-4e78-984c-3d874aac53ac",
   "metadata": {},
   "source": [
    "### Exercise 5:\n",
    "Write a Python function that checks if a number is divisible by both 3 and 5."
   ]
  },
  {
   "cell_type": "code",
   "execution_count": 37,
   "id": "d5da7ba5-4cb8-43ab-90f4-40f76a6affd7",
   "metadata": {},
   "outputs": [
    {
     "name": "stdout",
     "output_type": "stream",
     "text": [
      "30 is divisible by 3 and 5: True\n",
      "10 is divisible by 3 and 5: False\n"
     ]
    }
   ],
   "source": [
    "def is_divisible_by_3_and_5(number):\n",
    "    if number % 15 == 0:\n",
    "        return True\n",
    "    else:\n",
    "        return False\n",
    "\n",
    "# Example usage\n",
    "num1 = 30\n",
    "num2 = 10\n",
    "\n",
    "print(f\"{num1} is divisible by 3 and 5: {is_divisible_by_3_and_5(num1)}\")\n",
    "print(f\"{num2} is divisible by 3 and 5: {is_divisible_by_3_and_5(num2)}\")"
   ]
  },
  {
   "cell_type": "markdown",
   "id": "745eca77-1f7f-4d13-9ac1-46d8da6e8cf2",
   "metadata": {},
   "source": [
    "### Exercise 6:\n",
    "Write a Python program that prints \"Hot\" if the temperature is above 30, \"Warm\" if it is between 15 and 30, and \"Cold\" if it is below 15."
   ]
  },
  {
   "cell_type": "code",
   "execution_count": 36,
   "id": "d5ef9b00-d6d0-495b-b505-46e02c52ade6",
   "metadata": {},
   "outputs": [
    {
     "name": "stdout",
     "output_type": "stream",
     "text": [
      "The temperature is **Warm**.\n"
     ]
    }
   ],
   "source": [
    "temperature = 22  # Example temperature in Celsius\n",
    "\n",
    "if temperature > 30:\n",
    "    print(\"The temperature is **Hot**.\")\n",
    "elif 15 <= temperature <= 30:\n",
    "    print(\"The temperature is **Warm**.\")\n",
    "else:  # temperature < 15\n",
    "    print(\"The temperature is **Cold**.\")"
   ]
  },
  {
   "cell_type": "markdown",
   "id": "bbf50a2d-e287-4c12-b35a-ba9dd07d5579",
   "metadata": {},
   "source": [
    "### Exercise 7:\n",
    "Write a Python program that checks if a string contains the letter 'a'."
   ]
  },
  {
   "cell_type": "code",
   "execution_count": 35,
   "id": "008d68dc-0b5e-45c6-9efd-f64ba886b15a",
   "metadata": {},
   "outputs": [
    {
     "name": "stdout",
     "output_type": "stream",
     "text": [
      "The string 'Python programming' **contains** the letter 'a' (case-insensitive).\n"
     ]
    }
   ],
   "source": [
    "my_string = \"Python programming\"  # Example string\n",
    "\n",
    "if 'a' in my_string or 'A' in my_string:\n",
    "    print(f\"The string '{my_string}' **contains** the letter 'a' (case-insensitive).\")\n",
    "else:\n",
    "    print(f\"The string '{my_string}' **does not contain** the letter 'a'.\")"
   ]
  },
  {
   "cell_type": "markdown",
   "id": "9a8ed141-3d67-4985-8c2a-72e310eaf44f",
   "metadata": {},
   "source": [
    "### Exercise 8:\n",
    "Write a Python function that checks if two numbers are equal, or which one is larger."
   ]
  },
  {
   "cell_type": "code",
   "execution_count": 34,
   "id": "7f689c59-2268-4ad2-aff4-4918e135b947",
   "metadata": {},
   "outputs": [
    {
     "name": "stdout",
     "output_type": "stream",
     "text": [
      "The numbers 5 and 5 are **Equal**.\n",
      "The number 10 is **Larger** than 3.\n",
      "The number 8 is **Larger** than 2.\n"
     ]
    }
   ],
   "source": [
    "def compare_numbers(a, b):\n",
    "    \n",
    "    if a == b:\n",
    "        print(f\"The numbers {a} and {b} are **Equal**.\")\n",
    "    elif a > b:\n",
    "        print(f\"The number {a} is **Larger** than {b}.\")\n",
    "    else:\n",
    "        print(f\"The number {b} is **Larger** than {a}.\")\n",
    "\n",
    "# Example usage\n",
    "compare_numbers(5, 5)\n",
    "compare_numbers(10, 3)\n",
    "compare_numbers(2, 8)"
   ]
  },
  {
   "cell_type": "markdown",
   "id": "1539cfb7-69ab-4895-9457-0e709f54c3c7",
   "metadata": {},
   "source": [
    "### Exercise 9:\n",
    "Write a Python program that checks if a list is empty"
   ]
  },
  {
   "cell_type": "code",
   "execution_count": 33,
   "id": "5bb18e4f-dd71-43ae-aca2-70024a6bb9ab",
   "metadata": {},
   "outputs": [
    {
     "name": "stdout",
     "output_type": "stream",
     "text": [
      "The list **is empty**.\n"
     ]
    }
   ],
   "source": [
    "my_list = []  # Example list (empty)\n",
    "# my_list = [1, 2, 3] # Example list (not empty)\n",
    "\n",
    "if not my_list:\n",
    "    print(\"The list **is empty**.\")\n",
    "else:\n",
    "    print(\"The list **is not empty**.\")"
   ]
  },
  {
   "cell_type": "markdown",
   "id": "b0705eb1-bd5b-4424-a66d-7e974e6ece09",
   "metadata": {},
   "source": [
    "### Exercise 10:\n",
    "Write a Python function that takes two strings and checks if they are anagrams."
   ]
  },
  {
   "cell_type": "code",
   "execution_count": 13,
   "id": "f6722633-64ce-496b-babe-f05c80384906",
   "metadata": {},
   "outputs": [
    {
     "name": "stdout",
     "output_type": "stream",
     "text": [
      "'Listen' and 'Silent' are anagrams: True\n",
      "'Listen' and 'Hello' are anagrams: False\n"
     ]
    }
   ],
   "source": [
    "def are_anagrams(s1, s2):\n",
    "    # Normalize by lowercasing and removing spaces, then sort the characters.\n",
    "    s1_sorted = sorted(s1.lower().replace(' ', ''))\n",
    "    s2_sorted = sorted(s2.lower().replace(' ', ''))\n",
    "    \n",
    "    return s1_sorted == s2_sorted\n",
    "\n",
    "# Example usage\n",
    "word1 = \"Listen\"\n",
    "word2 = \"Silent\"\n",
    "word3 = \"Hello\"\n",
    "\n",
    "print(f\"'{word1}' and '{word2}' are anagrams: {are_anagrams(word1, word2)}\")\n",
    "print(f\"'{word1}' and '{word3}' are anagrams: {are_anagrams(word1, word3)}\")"
   ]
  },
  {
   "cell_type": "markdown",
   "id": "a34c4d7e-4140-4d40-9b88-eccfdea8d4eb",
   "metadata": {},
   "source": [
    "### Exercise 11:\n",
    "Write a Python program that checks if a number is prime."
   ]
  },
  {
   "cell_type": "code",
   "execution_count": 14,
   "id": "94fe5735-fe76-46a1-961b-6fcac937f474",
   "metadata": {},
   "outputs": [
    {
     "name": "stdout",
     "output_type": "stream",
     "text": [
      "The number 17 **is** a prime number.\n"
     ]
    }
   ],
   "source": [
    "import math\n",
    "\n",
    "number = 17  # Example number\n",
    "\n",
    "if number <= 1:\n",
    "    is_prime = False\n",
    "elif number == 2:\n",
    "    is_prime = True\n",
    "else:\n",
    "    is_prime = True\n",
    "    # Check for factors from 2 up to the square root of the number\n",
    "    for i in range(2, int(math.sqrt(number)) + 1):\n",
    "        if number % i == 0:\n",
    "            is_prime = False\n",
    "            break\n",
    "\n",
    "if is_prime:\n",
    "    print(f\"The number {number} **is** a prime number.\")\n",
    "else:\n",
    "    print(f\"The number {number} **is not** a prime number.\")"
   ]
  },
  {
   "cell_type": "markdown",
   "id": "be6462c4-5dea-48e6-a9b1-d389362d0700",
   "metadata": {},
   "source": [
    "### Exercise 12:\n",
    "Write a Python program that checks if a list of numbers is sorted in ascending order."
   ]
  },
  {
   "cell_type": "code",
   "execution_count": 15,
   "id": "3ba636d8-23ec-443f-bde0-64516ed6da98",
   "metadata": {},
   "outputs": [
    {
     "name": "stdout",
     "output_type": "stream",
     "text": [
      "The list [1, 5, 10, 15] **is** sorted in ascending order.\n"
     ]
    }
   ],
   "source": [
    "my_list = [1, 5, 10, 15]  # Example list\n",
    "# my_list = [1, 10, 5, 15] # Example unsorted list\n",
    "\n",
    "is_sorted = my_list == sorted(my_list)\n",
    "\n",
    "if is_sorted:\n",
    "    print(f\"The list {my_list} **is** sorted in ascending order.\")\n",
    "else:\n",
    "    print(f\"The list {my_list} **is not** sorted in ascending order.\")"
   ]
  },
  {
   "cell_type": "markdown",
   "id": "f6334ac0-049e-4225-9152-a961ebcd67b0",
   "metadata": {},
   "source": [
    "### Exercise 13:\n",
    "Write a Python function that takes a character and checks if it is a digit."
   ]
  },
  {
   "cell_type": "code",
   "execution_count": 16,
   "id": "1c9438db-0baf-4124-9f14-2ba7f38f0dad",
   "metadata": {},
   "outputs": [
    {
     "name": "stdout",
     "output_type": "stream",
     "text": [
      "'7' is a digit: True\n",
      "'k' is a digit: False\n"
     ]
    }
   ],
   "source": [
    "def is_a_digit(char):\n",
    "    return char.isdigit()\n",
    "\n",
    "# Example usage\n",
    "char1 = '7'\n",
    "char2 = 'k'\n",
    "\n",
    "print(f\"'{char1}' is a digit: {is_a_digit(char1)}\")\n",
    "print(f\"'{char2}' is a digit: {is_a_digit(char2)}\")"
   ]
  },
  {
   "cell_type": "markdown",
   "id": "7c039a25-65f7-42af-b095-f1edba3238cc",
   "metadata": {},
   "source": [
    "### Exercise 14:\n",
    "Write a Python function that checks if a string contains only uppercase letters"
   ]
  },
  {
   "cell_type": "code",
   "execution_count": 17,
   "id": "53824046-57d1-4e5e-ba42-12e2449cd693",
   "metadata": {},
   "outputs": [
    {
     "name": "stdout",
     "output_type": "stream",
     "text": [
      "The number 50 **is** a multiple of 10.\n"
     ]
    }
   ],
   "source": [
    "number = 50  # Example number\n",
    "\n",
    "if number % 10 == 0:\n",
    "    print(f\"The number {number} **is** a multiple of 10.\")\n",
    "else:\n",
    "    print(f\"The number {number} **is not** a multiple of 10.\")"
   ]
  },
  {
   "cell_type": "markdown",
   "id": "0ac95d1b-b610-4282-8647-63598823e6f1",
   "metadata": {},
   "source": [
    "### Exercise 15:\n",
    "Write a Python program that checks if a number is a multiple of 10."
   ]
  },
  {
   "cell_type": "code",
   "execution_count": 18,
   "id": "524610f0-7768-4616-b149-d651f915c5d2",
   "metadata": {},
   "outputs": [
    {
     "name": "stdout",
     "output_type": "stream",
     "text": [
      "The number 50 **is** a multiple of 10.\n"
     ]
    }
   ],
   "source": [
    "# Exercise 15: Check if a number is a multiple of 10.\n",
    "\n",
    "number = 50  # Example number\n",
    "\n",
    "if number % 10 == 0:\n",
    "    print(f\"The number {number} **is** a multiple of 10.\")\n",
    "else:\n",
    "    print(f\"The number {number} **is not** a multiple of 10.\")"
   ]
  },
  {
   "cell_type": "markdown",
   "id": "7324b644-9c63-4c27-a429-2a521aa15543",
   "metadata": {},
   "source": [
    "### Exercise 16:\n",
    "Write a Python function that checks if a list contains any duplicates."
   ]
  },
  {
   "cell_type": "code",
   "execution_count": 19,
   "id": "ede398d2-36c8-4f61-ae14-e4f28bb4c2f8",
   "metadata": {},
   "outputs": [
    {
     "name": "stdout",
     "output_type": "stream",
     "text": [
      "List [1, 2, 3, 2, 5] contains duplicates: True\n",
      "List [1, 2, 3, 4] contains duplicates: False\n"
     ]
    }
   ],
   "source": [
    "def contains_duplicates(input_list):\n",
    "    # Convert list to a set to remove duplicates, then compare lengths.\n",
    "    return len(input_list) != len(set(input_list))\n",
    "\n",
    "# Example usage\n",
    "list_dup = [1, 2, 3, 2, 5]\n",
    "list_unique = [1, 2, 3, 4]\n",
    "\n",
    "print(f\"List {list_dup} contains duplicates: {contains_duplicates(list_dup)}\")\n",
    "print(f\"List {list_unique} contains duplicates: {contains_duplicates(list_unique)}\")"
   ]
  },
  {
   "cell_type": "markdown",
   "id": "c20aae58-3321-4eb0-8b40-280e34bdc1db",
   "metadata": {},
   "source": [
    "### Exercise 17:\n",
    "Write a Python program that prints \"Teenager\" if the age is between 13 and 19, otherwise it prints \"Not a teenager.\""
   ]
  },
  {
   "cell_type": "code",
   "execution_count": 20,
   "id": "965a8fbe-040e-4b99-a5db-697561e13fc1",
   "metadata": {},
   "outputs": [
    {
     "name": "stdout",
     "output_type": "stream",
     "text": [
      "The person is a **Teenager**.\n"
     ]
    }
   ],
   "source": [
    "age = 15  # Example age\n",
    "\n",
    "if 13 <= age <= 19:\n",
    "    print(\"The person is a **Teenager**.\")\n",
    "else:\n",
    "    print(\"The person is **Not a teenager**.\")"
   ]
  },
  {
   "cell_type": "markdown",
   "id": "c2719658-b541-4efb-9b85-31ba453aad7e",
   "metadata": {},
   "source": [
    "### Exercise 18:\n",
    "Write a Python function that checks if a list contains an element greater than 100."
   ]
  },
  {
   "cell_type": "code",
   "execution_count": 21,
   "id": "774d43c8-367a-4075-8f04-c5b89c27dbfc",
   "metadata": {},
   "outputs": [
    {
     "name": "stdout",
     "output_type": "stream",
     "text": [
      "List [10, 50, 101, 99] has element > 100: True\n",
      "List [10, 50, 99] has element > 100: False\n"
     ]
    }
   ],
   "source": [
    "def has_element_greater_than_100(data_list):\n",
    "    return any(number > 100 for number in data_list)\n",
    "\n",
    "# Example usage\n",
    "data1 = [10, 50, 101, 99]\n",
    "data2 = [10, 50, 99]\n",
    "\n",
    "print(f\"List {data1} has element > 100: {has_element_greater_than_100(data1)}\")\n",
    "print(f\"List {data2} has element > 100: {has_element_greater_than_100(data2)}\")"
   ]
  },
  {
   "cell_type": "markdown",
   "id": "36fe185a-f81e-4666-b40f-b7e890097b56",
   "metadata": {},
   "source": [
    "### Exercise 19:\n",
    "Write a Python program that checks if a number is even or odd."
   ]
  },
  {
   "cell_type": "code",
   "execution_count": 22,
   "id": "26d4b80f-e22d-4f8e-892b-eb15feef7bef",
   "metadata": {},
   "outputs": [
    {
     "name": "stdout",
     "output_type": "stream",
     "text": [
      "The number 43 is **Odd**.\n"
     ]
    }
   ],
   "source": [
    "number = 43  # Example number\n",
    "\n",
    "if number % 2 == 0:\n",
    "    print(f\"The number {number} is **Even**.\")\n",
    "else:\n",
    "    print(f\"The number {number} is **Odd**.\")"
   ]
  },
  {
   "cell_type": "markdown",
   "id": "8e7f9c07-3f46-4df8-bf3d-ba9d98e73420",
   "metadata": {},
   "source": [
    "### Exercise 20:\n",
    "Write a Python function that checks if a string ends with a punctuation mark."
   ]
  },
  {
   "cell_type": "code",
   "execution_count": 23,
   "id": "209c7869-23c9-4fce-b1b6-20aa9775b41c",
   "metadata": {},
   "outputs": [
    {
     "name": "stdout",
     "output_type": "stream",
     "text": [
      "'Hello, world!' ends with punctuation: True\n",
      "'Hello world' ends with punctuation: False\n"
     ]
    }
   ],
   "source": [
    "import string\n",
    "\n",
    "def ends_with_punctuation(text):\n",
    "    # string.punctuation includes: !\"#$%&'()*+,-./:;<=>?@[\\]^_`{|}~\n",
    "    return text.endswith(tuple(string.punctuation))\n",
    "\n",
    "# Example usage\n",
    "text1 = \"Hello, world!\"\n",
    "text2 = \"Hello world\"\n",
    "\n",
    "print(f\"'{text1}' ends with punctuation: {ends_with_punctuation(text1)}\")\n",
    "print(f\"'{text2}' ends with punctuation: {ends_with_punctuation(text2)}\")"
   ]
  },
  {
   "cell_type": "markdown",
   "id": "c1279062-9c16-4bed-958f-0d966c2d6c69",
   "metadata": {},
   "source": [
    "### Exercise 21:\n",
    "Write a Python program that prints \"Yes\" if the number is between 1 and 100, otherwise it prints \"No.\""
   ]
  },
  {
   "cell_type": "code",
   "execution_count": 3,
   "id": "01f24de3-8158-4378-bddb-812fdc432aa7",
   "metadata": {},
   "outputs": [
    {
     "name": "stdout",
     "output_type": "stream",
     "text": [
      "Yes\n"
     ]
    }
   ],
   "source": [
    "number = 55  # Example input\n",
    "\n",
    "if 1 <= number <= 100:\n",
    "    print(\"Yes\")\n",
    "else:\n",
    "    print(\"No\")"
   ]
  },
  {
   "cell_type": "markdown",
   "id": "109e6d3d-e9c2-4700-bec4-9a0dc813a46b",
   "metadata": {},
   "source": [
    "### Exercise 22:\n",
    "Write a Python program that checks if two strings have the same length."
   ]
  },
  {
   "cell_type": "code",
   "execution_count": 4,
   "id": "eae9fe91-9a2d-42e9-9540-fb1272bb4299",
   "metadata": {},
   "outputs": [
    {
     "name": "stdout",
     "output_type": "stream",
     "text": [
      "The strings have the same length.\n"
     ]
    }
   ],
   "source": [
    "string1 = \"hello\"\n",
    "string2 = \"world\"\n",
    "\n",
    "if len(string1) == len(string2):\n",
    "    print(\"The strings have the same length.\")\n",
    "else:\n",
    "    print(\"The strings do not have the same length.\")"
   ]
  },
  {
   "cell_type": "markdown",
   "id": "7ae46e08-3c22-4348-8ed7-c6fa518f281b",
   "metadata": {},
   "source": [
    "### Exercise 23:\n",
    "Write a Python function that checks if a number is greater than its reverse"
   ]
  },
  {
   "cell_type": "code",
   "execution_count": 5,
   "id": "879e8b13-44b7-493a-9cdd-4dcb0164a589",
   "metadata": {},
   "outputs": [
    {
     "name": "stdout",
     "output_type": "stream",
     "text": [
      "Is 123 greater than its reverse? False\n",
      "Is 321 greater than its reverse? True\n"
     ]
    }
   ],
   "source": [
    "def is_greater_than_reverse(n):\n",
    "    # Convert number to string, reverse it, and convert back to integer\n",
    "    n_str = str(n)\n",
    "    reverse_n_str = n_str[::-1]\n",
    "    reverse_n = int(reverse_n_str)\n",
    "    \n",
    "    return n > reverse_n\n",
    "\n",
    "# Example usage\n",
    "number = 123\n",
    "print(f\"Is {number} greater than its reverse? {is_greater_than_reverse(number)}\")\n",
    "\n",
    "number = 321\n",
    "print(f\"Is {number} greater than its reverse? {is_greater_than_reverse(number)}\")"
   ]
  },
  {
   "cell_type": "markdown",
   "id": "8aa5b1cd-16fd-4d38-b1cc-ded7fbe76b78",
   "metadata": {},
   "source": [
    "### Exercise 24:\n",
    "Write a Python program that checks if a password contains both letters and numbers."
   ]
  },
  {
   "cell_type": "code",
   "execution_count": 6,
   "id": "9866de85-973b-4c7c-8769-78d19828c7f9",
   "metadata": {},
   "outputs": [
    {
     "name": "stdout",
     "output_type": "stream",
     "text": [
      "'Pass123' is valid: True\n",
      "'Password' is valid: False\n",
      "'123456' is valid: False\n"
     ]
    }
   ],
   "source": [
    "import re\n",
    "\n",
    "def check_password(password):\n",
    "    has_letter = bool(re.search(r'[a-zA-Z]', password))\n",
    "    has_number = bool(re.search(r'\\d', password))\n",
    "    \n",
    "    return has_letter and has_number\n",
    "\n",
    "# Example usage\n",
    "password_good = \"Pass123\"\n",
    "password_letters = \"Password\"\n",
    "password_numbers = \"123456\"\n",
    "\n",
    "print(f\"'{password_good}' is valid: {check_password(password_good)}\")\n",
    "print(f\"'{password_letters}' is valid: {check_password(password_letters)}\")\n",
    "print(f\"'{password_numbers}' is valid: {check_password(password_numbers)}\")"
   ]
  },
  {
   "cell_type": "markdown",
   "id": "79f02a6e-7351-4827-b150-cd9cc84b25e6",
   "metadata": {},
   "source": [
    "### Exercise 25:\n",
    "Write a Python program that checks if a number is between two given numbers."
   ]
  },
  {
   "cell_type": "code",
   "execution_count": 7,
   "id": "516a0bbf-ad03-486a-82b4-b62806b10e24",
   "metadata": {},
   "outputs": [
    {
     "name": "stdout",
     "output_type": "stream",
     "text": [
      "15 is between 10 and 20.\n"
     ]
    }
   ],
   "source": [
    "number = 15\n",
    "lower_bound = 10\n",
    "upper_bound = 20\n",
    "\n",
    "if lower_bound < number < upper_bound:\n",
    "    print(f\"{number} is between {lower_bound} and {upper_bound}.\")\n",
    "else:\n",
    "    print(f\"{number} is not between {lower_bound} and {upper_bound}.\")"
   ]
  },
  {
   "cell_type": "markdown",
   "id": "14e78e6d-e992-4878-b2c9-bb8389124919",
   "metadata": {},
   "source": [
    "### Exercise 26:\n",
    "Write a Python function that checks if all characters in a string are unique."
   ]
  },
  {
   "cell_type": "code",
   "execution_count": 8,
   "id": "a9e51c74-1f5c-4ac0-921d-06bf5bc2b830",
   "metadata": {},
   "outputs": [
    {
     "name": "stdout",
     "output_type": "stream",
     "text": [
      "'abcde' has unique characters: True\n",
      "'hello' has unique characters: False\n"
     ]
    }
   ],
   "source": [
    "def has_unique_characters(s):\n",
    "    # Convert string to a set to remove duplicates, then compare lengths\n",
    "    return len(s) == len(set(s))\n",
    "\n",
    "# Example usage\n",
    "string_unique = \"abcde\"\n",
    "string_not_unique = \"hello\"\n",
    "\n",
    "print(f\"'{string_unique}' has unique characters: {has_unique_characters(string_unique)}\")\n",
    "print(f\"'{string_not_unique}' has unique characters: {has_unique_characters(string_not_unique)}\")"
   ]
  },
  {
   "cell_type": "markdown",
   "id": "e2e2dfe2-30b2-49a2-9659-164adcfc2521",
   "metadata": {},
   "source": [
    "### Exercise 27:\n",
    "Write a Python program that checks if a number is a perfect square."
   ]
  },
  {
   "cell_type": "code",
   "execution_count": 9,
   "id": "d0dad427-bd20-4123-a50b-41922253bd5d",
   "metadata": {},
   "outputs": [
    {
     "name": "stdout",
     "output_type": "stream",
     "text": [
      "16 is a perfect square: True\n",
      "14 is a perfect square: False\n"
     ]
    }
   ],
   "source": [
    "import math\n",
    "\n",
    "def is_perfect_square(n):\n",
    "    if n < 0:\n",
    "        return False\n",
    "    # Calculate the integer part of the square root\n",
    "    root = int(math.sqrt(n))\n",
    "    # Check if the square of the integer root equals the original number\n",
    "    return root * root == n\n",
    "\n",
    "# Example usage\n",
    "number1 = 16\n",
    "number2 = 14\n",
    "\n",
    "print(f\"{number1} is a perfect square: {is_perfect_square(number1)}\")\n",
    "print(f\"{number2} is a perfect square: {is_perfect_square(number2)}\")"
   ]
  },
  {
   "cell_type": "markdown",
   "id": "0002b4d9-d428-46ce-937e-734c18176661",
   "metadata": {},
   "source": [
    "### Exercise 28:\n",
    "Write a Python function that checks if a word is a palindrome."
   ]
  },
  {
   "cell_type": "code",
   "execution_count": 10,
   "id": "a324b861-8f27-4410-a1b9-3f29edf4e3b8",
   "metadata": {},
   "outputs": [
    {
     "name": "stdout",
     "output_type": "stream",
     "text": [
      "'level' is a palindrome: True\n",
      "'Python' is a palindrome: False\n"
     ]
    }
   ],
   "source": [
    "def is_palindrome(word):\n",
    "    # Convert to lowercase and remove spaces/punctuation for a robust check\n",
    "    processed_word = ''.join(filter(str.isalnum, word)).lower()\n",
    "    # Palindrome check: compare the string with its reverse\n",
    "    return processed_word == processed_word[::-1]\n",
    "\n",
    "# Example usage\n",
    "word1 = \"level\"\n",
    "word2 = \"Python\"\n",
    "\n",
    "print(f\"'{word1}' is a palindrome: {is_palindrome(word1)}\")\n",
    "print(f\"'{word2}' is a palindrome: {is_palindrome(word2)}\")"
   ]
  },
  {
   "cell_type": "markdown",
   "id": "b6cdb3d6-a220-4185-a9bc-7b889d0557aa",
   "metadata": {},
   "source": [
    "### Exercise 29:\n",
    "Write a Python program that prints \"Fizz\" if a number is divisible by 3, \"Buzz\" if it is divisible by 5, and \"FizzBuzz\" if divisible by both."
   ]
  },
  {
   "cell_type": "code",
   "execution_count": 11,
   "id": "52f64243-1cc6-4f75-93c7-cec5dfec1a4d",
   "metadata": {},
   "outputs": [
    {
     "name": "stdout",
     "output_type": "stream",
     "text": [
      "FizzBuzz\n"
     ]
    }
   ],
   "source": [
    "number = 15 # Example input\n",
    "\n",
    "if number % 3 == 0 and number % 5 == 0:\n",
    "    print(\"FizzBuzz\")\n",
    "elif number % 3 == 0:\n",
    "    print(\"Fizz\")\n",
    "elif number % 5 == 0:\n",
    "    print(\"Buzz\")\n",
    "else:\n",
    "    print(number) # Optional: print the number itself if no condition is met"
   ]
  },
  {
   "cell_type": "markdown",
   "id": "51b5bfb4-45a7-4df2-b071-d32b317ad2fc",
   "metadata": {},
   "source": [
    "### Exercise 30:\n",
    "Write a Python program that checks if the sum of the digits of a number is even."
   ]
  },
  {
   "cell_type": "code",
   "execution_count": 12,
   "id": "dbb01b5f-97a2-42fc-96f9-fca775141269",
   "metadata": {},
   "outputs": [
    {
     "name": "stdout",
     "output_type": "stream",
     "text": [
      "Sum of digits of 123 is even: True\n",
      "Sum of digits of 124 is even: False\n"
     ]
    }
   ],
   "source": [
    "def is_sum_of_digits_even(n):\n",
    "    n_str = str(n)\n",
    "    digit_sum = 0\n",
    "    \n",
    "    for digit in n_str:\n",
    "        digit_sum += int(digit)\n",
    "        \n",
    "    return digit_sum % 2 == 0\n",
    "\n",
    "# Example usage\n",
    "number1 = 123  # Sum = 6 (Even)\n",
    "number2 = 124  # Sum = 7 (Odd)\n",
    "\n",
    "print(f\"Sum of digits of {number1} is even: {is_sum_of_digits_even(number1)}\")\n",
    "print(f\"Sum of digits of {number2} is even: {is_sum_of_digits_even(number2)}\")"
   ]
  },
  {
   "cell_type": "markdown",
   "id": "a9536af7-a8b9-4f48-9ad5-b15946f253d2",
   "metadata": {},
   "source": [
    "### Exercise 31:\n",
    "Write a Python program that checks if a string is a valid email address."
   ]
  },
  {
   "cell_type": "code",
   "execution_count": 13,
   "id": "1908597a-1cb1-4c57-88bc-4497e8ffd2b8",
   "metadata": {},
   "outputs": [
    {
     "name": "stdout",
     "output_type": "stream",
     "text": [
      "'test@example.com' is valid: True\n",
      "'invalid-email.com' is valid: False\n"
     ]
    }
   ],
   "source": [
    "import re\n",
    "\n",
    "def is_valid_email(email):\n",
    "    # Basic regex pattern: local-part@domain.tld\n",
    "    pattern = r\"^[a-zA-Z0-9._%+-]+@[a-zA-Z0-9.-]+\\.[a-zA-Z]{2,}$\"\n",
    "    return bool(re.fullmatch(pattern, email))\n",
    "\n",
    "# Example usage\n",
    "email1 = \"test@example.com\"\n",
    "email2 = \"invalid-email.com\"\n",
    "\n",
    "print(f\"'{email1}' is valid: {is_valid_email(email1)}\")\n",
    "print(f\"'{email2}' is valid: {is_valid_email(email2)}\")"
   ]
  },
  {
   "cell_type": "markdown",
   "id": "2400efd6-c0d7-4fff-b8de-bff276188311",
   "metadata": {},
   "source": [
    "### Exercise 32:\n",
    "Write a Python function that checks if a number is within 10 of 100 or 200."
   ]
  },
  {
   "cell_type": "code",
   "execution_count": 14,
   "id": "200a5c86-64c3-4814-ad0c-8a1dc1ef28cc",
   "metadata": {},
   "outputs": [
    {
     "name": "stdout",
     "output_type": "stream",
     "text": [
      "95 is near 100 or 200: True\n",
      "191 is near 100 or 200: True\n",
      "50 is near 100 or 200: False\n"
     ]
    }
   ],
   "source": [
    "def near_hundred_or_two_hundred(n):\n",
    "    # Check if absolute difference from 100 is <= 10 OR absolute difference from 200 is <= 10\n",
    "    return (abs(100 - n) <= 10) or (abs(200 - n) <= 10)\n",
    "\n",
    "# Example usage\n",
    "number1 = 95  # Near 100\n",
    "number2 = 191 # Near 200\n",
    "number3 = 50  # Neither\n",
    "\n",
    "print(f\"{number1} is near 100 or 200: {near_hundred_or_two_hundred(number1)}\")\n",
    "print(f\"{number2} is near 100 or 200: {near_hundred_or_two_hundred(number2)}\")\n",
    "print(f\"{number3} is near 100 or 200: {near_hundred_or_two_hundred(number3)}\")"
   ]
  },
  {
   "cell_type": "markdown",
   "id": "23bd2f11-aece-4f5f-9a92-27034a49b3b6",
   "metadata": {},
   "source": [
    "### Exercise 33:\n",
    "Write a Python program that checks if a given string is a valid URL."
   ]
  },
  {
   "cell_type": "code",
   "execution_count": 15,
   "id": "71261142-b450-4c52-b1b8-29d92cdc8b07",
   "metadata": {},
   "outputs": [
    {
     "name": "stdout",
     "output_type": "stream",
     "text": [
      "'https://www.google.com' is a valid URL: True\n",
      "'just-a-string' is a valid URL: False\n"
     ]
    }
   ],
   "source": [
    "import re\n",
    "\n",
    "def is_valid_url(url):\n",
    "    # Basic regex pattern for URL starting with http:// or https:// and having a domain name\n",
    "    pattern = r\"^(http|https):\\/\\/[a-zA-Z0-9.-]+\\.[a-zA-Z]{2,}(\\/\\S*)?$\"\n",
    "    return bool(re.fullmatch(pattern, url))\n",
    "\n",
    "# Example usage\n",
    "url1 = \"https://www.google.com\"\n",
    "url2 = \"just-a-string\"\n",
    "\n",
    "print(f\"'{url1}' is a valid URL: {is_valid_url(url1)}\")\n",
    "print(f\"'{url2}' is a valid URL: {is_valid_url(url2)}\")"
   ]
  },
  {
   "cell_type": "markdown",
   "id": "236c6bec-4964-4549-b1cb-102d0b2f0ad8",
   "metadata": {},
   "source": [
    "### Exercise 34:\n",
    "Write a Python program that checks if a list contains all even numbers."
   ]
  },
  {
   "cell_type": "code",
   "execution_count": 16,
   "id": "8739a82d-1f52-4677-aea0-f1f8c2348acb",
   "metadata": {},
   "outputs": [
    {
     "name": "stdout",
     "output_type": "stream",
     "text": [
      "List [2, 4, 6, 8] contains all even numbers: True\n",
      "List [2, 4, 7, 8] contains all even numbers: False\n"
     ]
    }
   ],
   "source": [
    "def all_even(lst):\n",
    "    # Use the 'all' function with a generator expression\n",
    "    return all(num % 2 == 0 for num in lst)\n",
    "\n",
    "# Example usage\n",
    "list1 = [2, 4, 6, 8]\n",
    "list2 = [2, 4, 7, 8]\n",
    "\n",
    "print(f\"List {list1} contains all even numbers: {all_even(list1)}\")\n",
    "print(f\"List {list2} contains all even numbers: {all_even(list2)}\")"
   ]
  },
  {
   "cell_type": "markdown",
   "id": "c1c40225-ba68-4e6c-8135-cf7f6b5f3860",
   "metadata": {},
   "source": [
    "### Exercise 35:\n",
    "Write a Python program that checks if a word is longer than a given length."
   ]
  },
  {
   "cell_type": "code",
   "execution_count": 17,
   "id": "4ee727ad-9e9b-4348-84ad-64a32668e062",
   "metadata": {},
   "outputs": [
    {
     "name": "stdout",
     "output_type": "stream",
     "text": [
      "'programming' is longer than 5 characters.\n"
     ]
    }
   ],
   "source": [
    "word = \"programming\"\n",
    "min_length = 5\n",
    "\n",
    "if len(word) > min_length:\n",
    "    print(f\"'{word}' is longer than {min_length} characters.\")\n",
    "else:\n",
    "    print(f\"'{word}' is not longer than {min_length} characters.\")"
   ]
  },
  {
   "cell_type": "markdown",
   "id": "4eab5aef-8d3b-46b6-a158-0c4fb3648965",
   "metadata": {},
   "source": [
    "### Exercise 36:\n",
    "Write a Python program that checks if a list contains only positive numbers."
   ]
  },
  {
   "cell_type": "code",
   "execution_count": 18,
   "id": "91283ff2-1ccf-4b26-9f59-19afa0bc6092",
   "metadata": {},
   "outputs": [
    {
     "name": "stdout",
     "output_type": "stream",
     "text": [
      "List [1, 5, 10] contains only positive numbers: True\n",
      "List [1, -5, 10] contains only positive numbers: False\n"
     ]
    }
   ],
   "source": [
    "def all_positive(lst):\n",
    "    # Use the 'all' function with a generator expression\n",
    "    return all(num > 0 for num in lst)\n",
    "\n",
    "# Example usage\n",
    "list1 = [1, 5, 10]\n",
    "list2 = [1, -5, 10]\n",
    "\n",
    "print(f\"List {list1} contains only positive numbers: {all_positive(list1)}\")\n",
    "print(f\"List {list2} contains only positive numbers: {all_positive(list2)}\")"
   ]
  },
  {
   "cell_type": "markdown",
   "id": "cad8dfc8-d72b-49ff-a3f7-3ce8d34d67ea",
   "metadata": {},
   "source": [
    "### Exercise 37:\n",
    "Write a Python function that checks if a year is a century year (i.e., divisible by 100)."
   ]
  },
  {
   "cell_type": "code",
   "execution_count": 19,
   "id": "dc445ede-68a2-4722-ba62-5ecab7aed805",
   "metadata": {},
   "outputs": [
    {
     "name": "stdout",
     "output_type": "stream",
     "text": [
      "2000 is a century year: True\n",
      "2024 is a century year: False\n"
     ]
    }
   ],
   "source": [
    "def is_century_year(year):\n",
    "    return year % 100 == 0\n",
    "\n",
    "# Example usage\n",
    "year1 = 2000\n",
    "year2 = 2024\n",
    "\n",
    "print(f\"{year1} is a century year: {is_century_year(year1)}\")\n",
    "print(f\"{year2} is a century year: {is_century_year(year2)}\")"
   ]
  },
  {
   "cell_type": "markdown",
   "id": "64589336-e34a-4116-9364-0ea4c4367409",
   "metadata": {},
   "source": [
    "### Exercise 38:\n",
    "Write a Python program that checks if the sum of a list of numbers is greater than 100."
   ]
  },
  {
   "cell_type": "code",
   "execution_count": 20,
   "id": "24513086-082b-4abe-a6ea-6b6f4bb6dc95",
   "metadata": {},
   "outputs": [
    {
     "name": "stdout",
     "output_type": "stream",
     "text": [
      "The sum of the list is greater than 100.\n"
     ]
    }
   ],
   "source": [
    "number_list = [50, 20, 40]\n",
    "\n",
    "if sum(number_list) > 100:\n",
    "    print(\"The sum of the list is greater than 100.\")\n",
    "else:\n",
    "    print(\"The sum of the list is not greater than 100.\")"
   ]
  },
  {
   "cell_type": "markdown",
   "id": "46c1b8f4-87f8-459f-a5ae-42f6ce6bc105",
   "metadata": {},
   "source": [
    "### Exercise 39:\n",
    "Write a Python function that checks if a given word is a substring of another string."
   ]
  },
  {
   "cell_type": "code",
   "execution_count": 21,
   "id": "486f6227-ae53-4e02-974e-4a0b31ed151e",
   "metadata": {},
   "outputs": [
    {
     "name": "stdout",
     "output_type": "stream",
     "text": [
      "'quick' is a substring of 'The quick brown fox': True\n",
      "'lazy' is a substring of 'The quick brown fox': False\n"
     ]
    }
   ],
   "source": [
    "def is_substring(word, main_string):\n",
    "    return word in main_string\n",
    "\n",
    "# Example usage\n",
    "main_str = \"The quick brown fox\"\n",
    "sub_word1 = \"quick\"\n",
    "sub_word2 = \"lazy\"\n",
    "\n",
    "print(f\"'{sub_word1}' is a substring of '{main_str}': {is_substring(sub_word1, main_str)}\")\n",
    "print(f\"'{sub_word2}' is a substring of '{main_str}': {is_substring(sub_word2, main_str)}\")"
   ]
  },
  {
   "cell_type": "markdown",
   "id": "a895701b-0c7c-41c7-8ca0-bef9911c3086",
   "metadata": {},
   "source": [
    "### Exercise 40:\n",
    "Write a Python program that checks if a number is a power of 2."
   ]
  },
  {
   "cell_type": "code",
   "execution_count": 22,
   "id": "5b503e16-427d-4367-8b30-f63e3e6876e4",
   "metadata": {},
   "outputs": [
    {
     "name": "stdout",
     "output_type": "stream",
     "text": [
      "16 is a power of 2: True\n",
      "12 is a power of 2: False\n"
     ]
    }
   ],
   "source": [
    "def is_power_of_two(n):\n",
    "    # A positive number is a power of 2 if and only if (n & (n - 1)) is 0\n",
    "    # and n is not 0.\n",
    "    return n > 0 and (n & (n - 1) == 0)\n",
    "\n",
    "# Example usage\n",
    "number1 = 16\n",
    "number2 = 12\n",
    "\n",
    "print(f\"{number1} is a power of 2: {is_power_of_two(number1)}\")\n",
    "print(f\"{number2} is a power of 2: {is_power_of_two(number2)}\")"
   ]
  },
  {
   "cell_type": "markdown",
   "id": "7abbd81c-5713-4900-974f-c52aebea4dec",
   "metadata": {},
   "source": [
    "### Exercise 41:\n",
    "Write a Python function that checks if a string contains no spaces."
   ]
  },
  {
   "cell_type": "code",
   "execution_count": 23,
   "id": "fb87bfaa-4142-4aee-b520-b87da9e34ca1",
   "metadata": {},
   "outputs": [
    {
     "name": "stdout",
     "output_type": "stream",
     "text": [
      "'nospaceshere' has no spaces: True\n",
      "'has spaces' has no spaces: False\n"
     ]
    }
   ],
   "source": [
    "def has_no_spaces(s):\n",
    "    return ' ' not in s\n",
    "\n",
    "# Example usage\n",
    "string1 = \"nospaceshere\"\n",
    "string2 = \"has spaces\"\n",
    "\n",
    "print(f\"'{string1}' has no spaces: {has_no_spaces(string1)}\")\n",
    "print(f\"'{string2}' has no spaces: {has_no_spaces(string2)}\")"
   ]
  },
  {
   "cell_type": "markdown",
   "id": "cb378945-6bb5-4a3d-a97e-195102d25d32",
   "metadata": {},
   "source": [
    "### Exercise 42:\n",
    "Write a Python program that prints \"Yes\" if a number is divisible by both 2 and 3, otherwise it prints \"No.\""
   ]
  },
  {
   "cell_type": "code",
   "execution_count": 24,
   "id": "1242faee-42dd-48ab-8fed-c1b7cf19487e",
   "metadata": {},
   "outputs": [
    {
     "name": "stdout",
     "output_type": "stream",
     "text": [
      "Yes\n"
     ]
    }
   ],
   "source": [
    "number = 6  # Example input\n",
    "\n",
    "if number % 2 == 0 and number % 3 == 0:\n",
    "    print(\"Yes\")\n",
    "else:\n",
    "    print(\"No\")"
   ]
  },
  {
   "cell_type": "markdown",
   "id": "b6c1a38a-3ee0-43b1-927d-1fe7c287e8e1",
   "metadata": {},
   "source": [
    "### Exercise 43:\n",
    "Write a Python program that checks if a number is a palindrome."
   ]
  },
  {
   "cell_type": "code",
   "execution_count": 25,
   "id": "c23eb521-3189-4afe-b911-3114b09a118d",
   "metadata": {},
   "outputs": [
    {
     "name": "stdout",
     "output_type": "stream",
     "text": [
      "121 is a palindrome: True\n",
      "123 is a palindrome: False\n"
     ]
    }
   ],
   "source": [
    "def is_number_palindrome(n):\n",
    "    # Convert number to string and compare it with its reverse\n",
    "    n_str = str(n)\n",
    "    return n_str == n_str[::-1]\n",
    "\n",
    "# Example usage\n",
    "number1 = 121\n",
    "number2 = 123\n",
    "\n",
    "print(f\"{number1} is a palindrome: {is_number_palindrome(number1)}\")\n",
    "print(f\"{number2} is a palindrome: {is_number_palindrome(number2)}\")"
   ]
  },
  {
   "cell_type": "markdown",
   "id": "1883d5ee-f00d-4935-bba5-4ff1fc35765e",
   "metadata": {},
   "source": [
    "### Exercise 44:\n",
    "Write a Python function that checks if a string is made of only lowercase letters."
   ]
  },
  {
   "cell_type": "code",
   "execution_count": 26,
   "id": "98b57b85-8753-4ac8-a503-358df8228d44",
   "metadata": {},
   "outputs": [
    {
     "name": "stdout",
     "output_type": "stream",
     "text": [
      "'hello' is only lowercase: True\n",
      "'Hello World' is only lowercase: False\n"
     ]
    }
   ],
   "source": [
    "def is_only_lowercase(s):\n",
    "    # The built-in .islower() method does this check, but also requires the string not to be empty\n",
    "    return s.islower()\n",
    "\n",
    "# Example usage\n",
    "string1 = \"hello\"\n",
    "string2 = \"Hello World\"\n",
    "\n",
    "print(f\"'{string1}' is only lowercase: {is_only_lowercase(string1)}\")\n",
    "print(f\"'{string2}' is only lowercase: {is_only_lowercase(string2)}\")"
   ]
  },
  {
   "cell_type": "markdown",
   "id": "e9061254-f4d2-4e3e-8882-c04729902280",
   "metadata": {},
   "source": [
    "### Exercise 45:\n",
    "Write a Python program that checks if a string starts with a specific prefix."
   ]
  },
  {
   "cell_type": "code",
   "execution_count": 27,
   "id": "f593b7d4-ae14-404e-8644-b4ed3bce529a",
   "metadata": {},
   "outputs": [
    {
     "name": "stdout",
     "output_type": "stream",
     "text": [
      "'Programming is fun' starts with the prefix 'Prog'.\n"
     ]
    }
   ],
   "source": [
    "text = \"Programming is fun\"\n",
    "prefix = \"Prog\"\n",
    "\n",
    "if text.startswith(prefix):\n",
    "    print(f\"'{text}' starts with the prefix '{prefix}'.\")\n",
    "else:\n",
    "    print(f\"'{text}' does not start with the prefix '{prefix}'.\")"
   ]
  },
  {
   "cell_type": "markdown",
   "id": "80b2377b-a67c-49e9-931e-672179fc1a43",
   "metadata": {},
   "source": [
    "### Exercise 46:\n",
    "Write a Python function that checks if a number is divisible by any number in a given list."
   ]
  },
  {
   "cell_type": "code",
   "execution_count": 28,
   "id": "f42af8d8-76a8-486d-9a8b-7943ddc1dea5",
   "metadata": {},
   "outputs": [
    {
     "name": "stdout",
     "output_type": "stream",
     "text": [
      "15 is divisible by any in [2, 5, 7]: True\n",
      "11 is divisible by any in [2, 3, 5]: False\n"
     ]
    }
   ],
   "source": [
    "def is_divisible_by_any(number, divisors):\n",
    "    # Use 'any' with a generator expression\n",
    "    # Use a try-except block to safely handle division by zero\n",
    "    for divisor in divisors:\n",
    "        if divisor != 0 and number % divisor == 0:\n",
    "            return True\n",
    "    return False\n",
    "\n",
    "# Example usage\n",
    "num = 15\n",
    "div_list = [2, 5, 7]\n",
    "\n",
    "print(f\"{num} is divisible by any in {div_list}: {is_divisible_by_any(num, div_list)}\")\n",
    "\n",
    "num = 11\n",
    "div_list = [2, 3, 5]\n",
    "\n",
    "print(f\"{num} is divisible by any in {div_list}: {is_divisible_by_any(num, div_list)}\")"
   ]
  },
  {
   "cell_type": "markdown",
   "id": "c1244b14-8657-4d14-b36d-8cf352466eda",
   "metadata": {},
   "source": [
    "### Exercise 47:\n",
    "Write a Python program that prints \"Yes\" if a string has more than one occurrence of the same letter."
   ]
  },
  {
   "cell_type": "code",
   "execution_count": 29,
   "id": "21a45262-1bad-4b73-b831-c64c5f104915",
   "metadata": {},
   "outputs": [
    {
     "name": "stdout",
     "output_type": "stream",
     "text": [
      "Yes\n",
      "No\n"
     ]
    }
   ],
   "source": [
    "from collections import Counter\n",
    "\n",
    "def has_duplicate_letters(s):\n",
    "    # Count character frequencies (ignoring case and non-letters)\n",
    "    s_lower_letters = ''.join(filter(str.isalpha, s.lower()))\n",
    "    \n",
    "    # Compare the number of unique letters to the total number of letters\n",
    "    return len(s_lower_letters) != len(set(s_lower_letters))\n",
    "\n",
    "# Example usage\n",
    "string1 = \"programming\"\n",
    "string2 = \"abcde\"\n",
    "\n",
    "if has_duplicate_letters(string1):\n",
    "    print(\"Yes\")\n",
    "else:\n",
    "    print(\"No\")\n",
    "\n",
    "if has_duplicate_letters(string2):\n",
    "    print(\"Yes\")\n",
    "else:\n",
    "    print(\"No\")"
   ]
  },
  {
   "cell_type": "markdown",
   "id": "c6ec3780-7bb6-4b3b-ae20-c832792a2787",
   "metadata": {},
   "source": [
    "### Exercise 48:\n",
    "Write a Python function that checks if a number is prime by dividing it by numbers up to its square root."
   ]
  },
  {
   "cell_type": "code",
   "execution_count": 30,
   "id": "6a9748b6-03d7-4da4-9318-ee390806af1d",
   "metadata": {},
   "outputs": [
    {
     "name": "stdout",
     "output_type": "stream",
     "text": [
      "17 is prime: True\n",
      "15 is prime: False\n"
     ]
    }
   ],
   "source": [
    "# Exercise 48\n",
    "import math\n",
    "\n",
    "def is_prime(n):\n",
    "    if n <= 1:\n",
    "        return False\n",
    "    if n <= 3:\n",
    "        return True\n",
    "    # This optimization is based on the fact that all primes greater than 3 can be written in the form 6k ± 1.\n",
    "    if n % 2 == 0 or n % 3 == 0:\n",
    "        return False\n",
    "    \n",
    "    # Check for factors from 5 up to the square root\n",
    "    i = 5\n",
    "    while i * i <= n:\n",
    "        if n % i == 0 or n % (i + 2) == 0:\n",
    "            return False\n",
    "        i += 6\n",
    "        \n",
    "    return True\n",
    "\n",
    "# Example usage\n",
    "number1 = 17\n",
    "number2 = 15\n",
    "\n",
    "print(f\"{number1} is prime: {is_prime(number1)}\")\n",
    "print(f\"{number2} is prime: {is_prime(number2)}\")"
   ]
  },
  {
   "cell_type": "markdown",
   "id": "3f985cc0-4417-41a9-bf9a-d9d4b7247e40",
   "metadata": {},
   "source": [
    "### Exercise 49:\n",
    "Write a Python program that checks if a number is within 1 of a multiple of 10."
   ]
  },
  {
   "cell_type": "code",
   "execution_count": 31,
   "id": "1bc0c1c9-becf-412c-a34c-47296a5af8c2",
   "metadata": {},
   "outputs": [
    {
     "name": "stdout",
     "output_type": "stream",
     "text": [
      "19 is near a multiple of 10: True\n",
      "20 is near a multiple of 10: True\n",
      "21 is near a multiple of 10: True\n",
      "23 is near a multiple of 10: False\n"
     ]
    }
   ],
   "source": [
    "def near_multiple_of_10(n):\n",
    "    # Check if the last digit is 9, 0, or 1\n",
    "    last_digit = abs(n) % 10\n",
    "    return last_digit in [9, 0, 1]\n",
    "\n",
    "# Example usage\n",
    "number1 = 19\n",
    "number2 = 20\n",
    "number3 = 21\n",
    "number4 = 23\n",
    "\n",
    "print(f\"{number1} is near a multiple of 10: {near_multiple_of_10(number1)}\")\n",
    "print(f\"{number2} is near a multiple of 10: {near_multiple_of_10(number2)}\")\n",
    "print(f\"{number3} is near a multiple of 10: {near_multiple_of_10(number3)}\")\n",
    "print(f\"{number4} is near a multiple of 10: {near_multiple_of_10(number4)}\")"
   ]
  },
  {
   "cell_type": "markdown",
   "id": "ea94879d-3b4d-4eb7-8748-2e8f52abded9",
   "metadata": {},
   "source": [
    "### Exercise 50:\n",
    "Write a Python program that prints \"In range\" if a number is between 10 and 20 (inclusive), otherwise it prints \"Out of range.\""
   ]
  },
  {
   "cell_type": "code",
   "execution_count": 32,
   "id": "6978d2a6-8d31-4259-a7d9-eab37ec9dc60",
   "metadata": {},
   "outputs": [
    {
     "name": "stdout",
     "output_type": "stream",
     "text": [
      "In range\n"
     ]
    }
   ],
   "source": [
    "number = 15  # Example input\n",
    "\n",
    "if 10 <= number <= 20:\n",
    "    print(\"In range\")\n",
    "else:\n",
    "    print(\"Out of range\")"
   ]
  },
  {
   "cell_type": "code",
   "execution_count": null,
   "id": "68b8bcea-82e9-4875-97d9-112e2b7d99d6",
   "metadata": {},
   "outputs": [],
   "source": []
  },
  {
   "cell_type": "markdown",
   "id": "bea983a3",
   "metadata": {
    "id": "bea983a3"
   },
   "source": [
    "\n",
    "\n",
    "---\n",
    "\n",
    "### Exercise 1:\n",
    "Write a Python program that checks if a number is positive or negative.\n",
    "\n",
    "```python\n",
    "# Exercise 1\n",
    "```\n",
    "\n",
    "---\n",
    "\n",
    "### Exercise 2:\n",
    "Write a Python function that checks if a string starts with a vowel.\n",
    "\n",
    "```python\n",
    "# Exercise 2\n",
    "```\n",
    "\n",
    "---\n",
    "\n",
    "### Exercise 3:\n",
    "Write a Python program that takes a list of integers and prints \"Even\" for each even number and \"Odd\" for each odd number.\n",
    "\n",
    "```python\n",
    "# Exercise 3\n",
    "```\n",
    "\n",
    "---\n",
    "\n",
    "### Exercise 4:\n",
    "Write a Python program that checks if a given year is a leap year.\n",
    "\n",
    "```python\n",
    "# Exercise 4\n",
    "```\n",
    "\n",
    "---\n",
    "\n",
    "### Exercise 5:\n",
    "Write a Python function that checks if a number is divisible by both 3 and 5.\n",
    "\n",
    "```python\n",
    "# Exercise 5\n",
    "```\n",
    "\n",
    "---\n",
    "\n",
    "### Exercise 6:\n",
    "Write a Python program that prints \"Hot\" if the temperature is above 30, \"Warm\" if it is between 15 and 30, and \"Cold\" if it is below 15.\n",
    "\n",
    "```python\n",
    "# Exercise 6\n",
    "```\n",
    "\n",
    "---\n",
    "\n",
    "### Exercise 7:\n",
    "Write a Python program that checks if a string contains the letter 'a'.\n",
    "\n",
    "```python\n",
    "# Exercise 7\n",
    "```\n",
    "\n",
    "---\n",
    "\n",
    "### Exercise 8:\n",
    "Write a Python function that checks if two numbers are equal, or which one is larger.\n",
    "\n",
    "```python\n",
    "# Exercise 8\n",
    "```\n",
    "\n",
    "---\n",
    "\n",
    "### Exercise 9:\n",
    "Write a Python program that checks if a list is empty.\n",
    "\n",
    "```python\n",
    "# Exercise 9\n",
    "```\n",
    "\n",
    "---\n",
    "\n",
    "### Exercise 10:\n",
    "Write a Python function that takes two strings and checks if they are anagrams.\n",
    "\n",
    "```python\n",
    "# Exercise 10\n",
    "```\n",
    "\n",
    "---\n",
    "\n",
    "### Exercise 11:\n",
    "Write a Python program that checks if a number is prime.\n",
    "\n",
    "```python\n",
    "# Exercise 11\n",
    "```\n",
    "\n",
    "---\n",
    "\n",
    "### Exercise 12:\n",
    "Write a Python program that checks if a list of numbers is sorted in ascending order.\n",
    "\n",
    "```python\n",
    "# Exercise 12\n",
    "```\n",
    "\n",
    "---\n",
    "\n",
    "### Exercise 13:\n",
    "Write a Python function that takes a character and checks if it is a digit.\n",
    "\n",
    "```python\n",
    "# Exercise 13\n",
    "```\n",
    "\n",
    "---\n",
    "\n",
    "### Exercise 14:\n",
    "Write a Python function that checks if a string contains only uppercase letters.\n",
    "\n",
    "```python\n",
    "# Exercise 14\n",
    "```\n",
    "\n",
    "---\n",
    "\n",
    "### Exercise 15:\n",
    "Write a Python program that checks if a number is a multiple of 10.\n",
    "\n",
    "```python\n",
    "# Exercise 15\n",
    "```\n",
    "\n",
    "---\n",
    "\n",
    "### Exercise 16:\n",
    "Write a Python function that checks if a list contains any duplicates.\n",
    "\n",
    "```python\n",
    "# Exercise 16\n",
    "```\n",
    "\n",
    "---\n",
    "\n",
    "### Exercise 17:\n",
    "Write a Python program that prints \"Teenager\" if the age is between 13 and 19, otherwise it prints \"Not a teenager.\"\n",
    "\n",
    "```python\n",
    "# Exercise 17\n",
    "```\n",
    "\n",
    "---\n",
    "\n",
    "### Exercise 18:\n",
    "Write a Python function that checks if a list contains an element greater than 100.\n",
    "\n",
    "```python\n",
    "# Exercise 18\n",
    "```\n",
    "\n",
    "---\n",
    "\n",
    "### Exercise 19:\n",
    "Write a Python program that checks if a number is even or odd.\n",
    "\n",
    "```python\n",
    "# Exercise 19\n",
    "```\n",
    "\n",
    "---\n",
    "\n",
    "### Exercise 20:\n",
    "Write a Python function that checks if a string ends with a punctuation mark.\n",
    "\n",
    "```python\n",
    "# Exercise 20\n",
    "```\n",
    "\n",
    "---\n",
    "\n",
    "### Exercise 21:\n",
    "Write a Python program that prints \"Yes\" if the number is between 1 and 100, otherwise it prints \"No.\"\n",
    "\n",
    "```python\n",
    "# Exercise 21\n",
    "```\n",
    "\n",
    "---\n",
    "\n",
    "### Exercise 22:\n",
    "Write a Python program that checks if two strings have the same length.\n",
    "\n",
    "```python\n",
    "# Exercise 22\n",
    "```\n",
    "\n",
    "---\n",
    "\n",
    "### Exercise 23:\n",
    "Write a Python function that checks if a number is greater than its reverse.\n",
    "\n",
    "```python\n",
    "# Exercise 23\n",
    "```\n",
    "\n",
    "---\n",
    "\n",
    "### Exercise 24:\n",
    "Write a Python program that checks if a password contains both letters and numbers.\n",
    "\n",
    "```python\n",
    "# Exercise 24\n",
    "```\n",
    "\n",
    "---\n",
    "\n",
    "### Exercise 25:\n",
    "Write a Python program that checks if a number is between two given numbers.\n",
    "\n",
    "```python\n",
    "# Exercise 25\n",
    "```\n",
    "\n",
    "---\n",
    "\n",
    "### Exercise 26:\n",
    "Write a Python function that checks if all characters in a string are unique.\n",
    "\n",
    "```python\n",
    "# Exercise 26\n",
    "```\n",
    "\n",
    "---\n",
    "\n",
    "### Exercise 27:\n",
    "Write a Python program that checks if a number is a perfect square.\n",
    "\n",
    "```python\n",
    "# Exercise 27\n",
    "```\n",
    "\n",
    "---\n",
    "\n",
    "### Exercise 28:\n",
    "Write a Python function that checks if a word is a palindrome.\n",
    "\n",
    "```python\n",
    "# Exercise 28\n",
    "```\n",
    "\n",
    "---\n",
    "\n",
    "### Exercise 29:\n",
    "Write a Python program that prints \"Fizz\" if a number is divisible by 3, \"Buzz\" if it is divisible by 5, and \"FizzBuzz\" if divisible by both.\n",
    "\n",
    "```python\n",
    "# Exercise 29\n",
    "```\n",
    "\n",
    "---\n",
    "\n",
    "### Exercise 30:\n",
    "Write a Python program that checks if the sum of the digits of a number is even.\n",
    "\n",
    "```python\n",
    "# Exercise 30\n",
    "```\n",
    "\n",
    "---\n",
    "\n",
    "### Exercise 31:\n",
    "Write a Python program that checks if a string is a valid email address.\n",
    "\n",
    "```python\n",
    "# Exercise 31\n",
    "```\n",
    "\n",
    "---\n",
    "\n",
    "### Exercise 32:\n",
    "Write a Python function that checks if a number is within 10 of 100 or 200.\n",
    "\n",
    "```python\n",
    "# Exercise 32\n",
    "```\n",
    "\n",
    "---\n",
    "\n",
    "### Exercise 33:\n",
    "Write a Python program that checks if a given string is a valid URL.\n",
    "\n",
    "```python\n",
    "# Exercise 33\n",
    "```\n",
    "\n",
    "---\n",
    "\n",
    "### Exercise 34:\n",
    "Write a Python program that checks if a list contains all even numbers.\n",
    "\n",
    "```python\n",
    "# Exercise 34\n",
    "```\n",
    "\n",
    "---\n",
    "\n",
    "### Exercise 35:\n",
    "Write a Python program that checks if a word is longer than a given length.\n",
    "\n",
    "```python\n",
    "# Exercise 35\n",
    "```\n",
    "\n",
    "---\n",
    "\n",
    "### Exercise 36:\n",
    "Write a Python program that checks if a list contains only positive numbers.\n",
    "\n",
    "```python\n",
    "# Exercise 36\n",
    "```\n",
    "\n",
    "---\n",
    "\n",
    "### Exercise 37:\n",
    "Write a Python function that checks if a year is a century year (i.e., divisible by 100).\n",
    "\n",
    "```python\n",
    "# Exercise 37\n",
    "```\n",
    "\n",
    "---\n",
    "\n",
    "### Exercise 38:\n",
    "Write a Python program that checks if the sum of a list of numbers is greater than 100.\n",
    "\n",
    "```python\n",
    "# Exercise 38\n",
    "```\n",
    "\n",
    "---\n",
    "\n",
    "### Exercise 39:\n",
    "Write a Python function that checks if a given word is a substring of another string.\n",
    "\n",
    "```python\n",
    "# Exercise 39\n",
    "```\n",
    "\n",
    "---\n",
    "\n",
    "### Exercise 40:\n",
    "Write a Python program that checks if a number is a power of 2.\n",
    "\n",
    "```python\n",
    "# Exercise 40\n",
    "```\n",
    "\n",
    "---\n",
    "\n",
    "### Exercise 41:\n",
    "Write a Python function that checks if a string contains no spaces.\n",
    "\n",
    "```python\n",
    "# Exercise 41\n",
    "```\n",
    "\n",
    "---\n",
    "\n",
    "### Exercise 42:\n",
    "Write a Python program that prints \"Yes\" if a number is divisible by both 2 and 3, otherwise it prints \"No.\"\n",
    "\n",
    "```python\n",
    "# Exercise 42\n",
    "```\n",
    "\n",
    "---\n",
    "\n",
    "### Exercise 43:\n",
    "Write a Python program that checks if a number is a palindrome.\n",
    "\n",
    "```python\n",
    "# Exercise 43\n",
    "```\n",
    "\n",
    "---\n",
    "\n",
    "### Exercise 44:\n",
    "Write a Python function that checks if a string is made of only lowercase letters.\n",
    "\n",
    "```python\n",
    "# Exercise 44\n",
    "```\n",
    "\n",
    "---\n",
    "\n",
    "### Exercise 45:\n",
    "Write a Python program that checks if a string starts with a specific prefix.\n",
    "\n",
    "```python\n",
    "# Exercise 45\n",
    "```\n",
    "\n",
    "---\n",
    "\n",
    "### Exercise 46:\n",
    "Write a Python function that checks if a number is divisible by any number in a given list.\n",
    "\n",
    "```python\n",
    "# Exercise 46\n",
    "```\n",
    "\n",
    "---\n",
    "\n",
    "### Exercise 47:\n",
    "Write a Python program that prints \"Yes\" if a string has more than one occurrence of the same letter.\n",
    "\n",
    "```python\n",
    "# Exercise 47\n",
    "```\n",
    "\n",
    "---\n",
    "\n",
    "### Exercise 48:\n",
    "Write a Python function that checks if a number is prime by dividing it by numbers up to its square root.\n",
    "\n",
    "```python\n",
    "# Exercise 48\n",
    "```\n",
    "\n",
    "---\n",
    "\n",
    "### Exercise 49:\n",
    "Write a Python program that checks if a number is within 1 of a multiple of 10.\n",
    "\n",
    "```python\n",
    "# Exercise 49\n",
    "```\n",
    "\n",
    "---\n",
    "\n",
    "### Exercise 50:\n",
    "Write a Python program that prints \"In range\" if a number is between 10 and 20 (inclusive), otherwise it prints \"Out of range.\"\n",
    "\n",
    "```python\n",
    "# Exercise 50\n",
    "```\n",
    "\n",
    "---\n"
   ]
  }
 ],
 "metadata": {
  "colab": {
   "provenance": []
  },
  "kernelspec": {
   "display_name": "Python 3 (ipykernel)",
   "language": "python",
   "name": "python3"
  },
  "language_info": {
   "codemirror_mode": {
    "name": "ipython",
    "version": 3
   },
   "file_extension": ".py",
   "mimetype": "text/x-python",
   "name": "python",
   "nbconvert_exporter": "python",
   "pygments_lexer": "ipython3",
   "version": "3.12.7"
  }
 },
 "nbformat": 4,
 "nbformat_minor": 5
}
