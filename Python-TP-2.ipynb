{
 "cells": [
  {
   "cell_type": "markdown",
   "id": "4933aeb9-447c-411a-af36-5a51623bc166",
   "metadata": {},
   "source": [
    "### Exercise 1:\n",
    "Create a string variable `text` and assign it the value `\"Python is amazing!\"`."
   ]
  },
  {
   "cell_type": "code",
   "execution_count": 1,
   "id": "db5640a7-662c-428e-9dd0-284cf56ebe10",
   "metadata": {},
   "outputs": [
    {
     "name": "stdout",
     "output_type": "stream",
     "text": [
      "Python is amazing!\n"
     ]
    }
   ],
   "source": [
    "text = \"Python is amazing!\"\n",
    "print(text)"
   ]
  },
  {
   "cell_type": "markdown",
   "id": "4f056d0f-9d38-4f49-8d58-c0f8549f250a",
   "metadata": {},
   "source": [
    "### Exercise 2:\n",
    "Find the length of the string `\"Hello, World!\"` and store it in a variable `length`."
   ]
  },
  {
   "cell_type": "code",
   "execution_count": 2,
   "id": "70b1594d-4264-4ddd-b440-081c0c51dc39",
   "metadata": {},
   "outputs": [
    {
     "name": "stdout",
     "output_type": "stream",
     "text": [
      "13\n"
     ]
    }
   ],
   "source": [
    "length = len(\"Hello, World!\")\n",
    "print(length)"
   ]
  },
  {
   "cell_type": "markdown",
   "id": "e69531c0-8ace-4f85-98ec-7fae098a2ca0",
   "metadata": {},
   "source": [
    "### Exercise 3:\n",
    "Convert the string `\"python programming\"` to uppercase and store it in a variable `upper_text`."
   ]
  },
  {
   "cell_type": "code",
   "execution_count": 4,
   "id": "d5fb8753-571e-4bd6-bf8e-3dd9cb25241e",
   "metadata": {},
   "outputs": [
    {
     "name": "stdout",
     "output_type": "stream",
     "text": [
      "PYTHON PROGRAMMING\n"
     ]
    }
   ],
   "source": [
    "upper_text = \"python programming\".upper()\n",
    "print(upper_text)"
   ]
  },
  {
   "cell_type": "markdown",
   "id": "9142f5fa-625e-4cdd-8f38-08abe4f17077",
   "metadata": {},
   "source": [
    "### Exercise 4:\n",
    "Extract the first 5 characters from the string `\"Artificial Intelligence\"`"
   ]
  },
  {
   "cell_type": "code",
   "execution_count": 6,
   "id": "8abca2be-e136-49fb-9e7d-8cf5455ca8cd",
   "metadata": {},
   "outputs": [
    {
     "name": "stdout",
     "output_type": "stream",
     "text": [
      "Artif\n"
     ]
    }
   ],
   "source": [
    "first_five = \"Artificial Intelligence\"[:5]\n",
    "print(first_five)"
   ]
  },
  {
   "cell_type": "markdown",
   "id": "60fc1193-4d9e-45f5-b0dd-5332a71aadb3",
   "metadata": {},
   "source": [
    "### Exercise 5:\n",
    "Concatenate the strings `\"Hello\"` and `\"World\"` with a space in between."
   ]
  },
  {
   "cell_type": "code",
   "execution_count": 7,
   "id": "2ed7f867-03e4-452a-8b74-ce8d5998e22a",
   "metadata": {},
   "outputs": [
    {
     "name": "stdout",
     "output_type": "stream",
     "text": [
      "Hello World\n"
     ]
    }
   ],
   "source": [
    "concatenated = \"Hello\" + \" \" + \"World\"\n",
    "print(concatenated)"
   ]
  },
  {
   "cell_type": "markdown",
   "id": "72c365f3-c0b5-43fc-a58b-5d35d493dc13",
   "metadata": {},
   "source": [
    "### Exercise 6:\n",
    "Replace the word `\"dog\"` with `\"cat\"` in the string `\"The quick brown dog jumps over the lazy dog.\""
   ]
  },
  {
   "cell_type": "code",
   "execution_count": 9,
   "id": "22424b99-14b2-4ec5-b296-7b160d96c07a",
   "metadata": {},
   "outputs": [
    {
     "name": "stdout",
     "output_type": "stream",
     "text": [
      "The quick brown cat jumps over the lazy cat.\n"
     ]
    }
   ],
   "source": [
    "replaced_text = \"The quick brown dog jumps over the lazy dog.\".replace(\"dog\", \"cat\")\n",
    "print(replaced_text)"
   ]
  },
  {
   "cell_type": "markdown",
   "id": "0b2f0b7b-8f9f-41f9-8020-16db9360ae38",
   "metadata": {},
   "source": [
    "### Exercise 7:\n",
    "Split the string `\"apple,banana,orange\"` by commas and store the result in a list `fruits_list"
   ]
  },
  {
   "cell_type": "code",
   "execution_count": 10,
   "id": "4e2081dc-dcc7-4747-963d-1d089cf99689",
   "metadata": {},
   "outputs": [
    {
     "name": "stdout",
     "output_type": "stream",
     "text": [
      "['apple', 'banana', 'orange']\n"
     ]
    }
   ],
   "source": [
    "fruits_list = \"apple,banana,orange\".split(',')\n",
    "print(fruits_list)"
   ]
  },
  {
   "cell_type": "markdown",
   "id": "b4864e73-a560-457d-96b9-c8eae9217984",
   "metadata": {},
   "source": [
    "### Exercise 8:\n",
    "Use string formatting to create the sentence `\"My name is Alice and I am 25 years old.\"`, where the name and age are variables."
   ]
  },
  {
   "cell_type": "code",
   "execution_count": 11,
   "id": "a5b24a3e-5e35-4df6-9f52-b167ba6ea0df",
   "metadata": {},
   "outputs": [
    {
     "name": "stdout",
     "output_type": "stream",
     "text": [
      "My name is Alice and I am 25 years old.\n"
     ]
    }
   ],
   "source": [
    "name = \"Alice\"\n",
    "age = 25\n",
    "sentence = f\"My name is {name} and I am {age} years old.\"\n",
    "print(sentence)"
   ]
  },
  {
   "cell_type": "markdown",
   "id": "fc597036-21bb-480d-ac9b-cb74c24ce8e9",
   "metadata": {},
   "source": [
    "### Exercise 9:\n",
    "Check if the string `\"python\"` is present in the sentence `\"I love python programming\""
   ]
  },
  {
   "cell_type": "code",
   "execution_count": 12,
   "id": "06d92c7f-d081-4afd-bcdc-95c54dea95d6",
   "metadata": {},
   "outputs": [
    {
     "name": "stdout",
     "output_type": "stream",
     "text": [
      "True\n"
     ]
    }
   ],
   "source": [
    "is_present = \"python\" in \"I love python programming\"\n",
    "print(is_present)"
   ]
  },
  {
   "cell_type": "markdown",
   "id": "8c171abe-8088-48eb-9c13-2b965d5dca54",
   "metadata": {},
   "source": [
    "### Exercise 10:\n",
    "Count the number of occurrences of the letter `\"e\"` in the string `\"Elephant is an elegant animal\"`"
   ]
  },
  {
   "cell_type": "code",
   "execution_count": 13,
   "id": "3bb1ef40-74b1-443a-87dc-de303c849255",
   "metadata": {},
   "outputs": [
    {
     "name": "stdout",
     "output_type": "stream",
     "text": [
      "3\n"
     ]
    }
   ],
   "source": [
    "count_e = \"Elephant is an elegant animal\".count('e')\n",
    "print(count_e)"
   ]
  },
  {
   "cell_type": "markdown",
   "id": "3f4e7394-6799-4552-b2f8-e442661eebb9",
   "metadata": {},
   "source": [
    "### Exercise 10:\n",
    "Count the number of occurrences of the letter `\"e\"` in the string `\"Elephant is an elegant animal\""
   ]
  },
  {
   "cell_type": "code",
   "execution_count": 14,
   "id": "0066914b-e231-4fe6-bb7a-494538e51a1c",
   "metadata": {},
   "outputs": [
    {
     "name": "stdout",
     "output_type": "stream",
     "text": [
      "Data Science\n"
     ]
    }
   ],
   "source": [
    "cleaned_text = \"   Data Science   \".strip()\n",
    "print(cleaned_text)"
   ]
  },
  {
   "cell_type": "markdown",
   "id": "3abab9cd-3288-4b99-9ffe-edb1a1202f33",
   "metadata": {},
   "source": [
    "### Exercise 12:\n",
    "Convert the string `\"100\"` into an integer and store it in a variable `int_value`"
   ]
  },
  {
   "cell_type": "code",
   "execution_count": 16,
   "id": "a717493e-d6ab-454d-8790-99596a32482f",
   "metadata": {},
   "outputs": [
    {
     "name": "stdout",
     "output_type": "stream",
     "text": [
      "100\n"
     ]
    }
   ],
   "source": [
    "int_value = int(\"100\")\n",
    "print(int_value)"
   ]
  },
  {
   "cell_type": "markdown",
   "id": "ec388b02-f404-470a-b887-e47cbc3656f0",
   "metadata": {},
   "source": [
    "### Exercise 13:\n",
    "Extract the substring `\"pro\"` from the string `\"programming\""
   ]
  },
  {
   "cell_type": "code",
   "execution_count": 17,
   "id": "651d6684-b11d-47bd-abef-b4709b8b978f",
   "metadata": {},
   "outputs": [
    {
     "name": "stdout",
     "output_type": "stream",
     "text": [
      "gra\n"
     ]
    }
   ],
   "source": [
    "substring = \"programming\"[3:6]\n",
    "print(substring)"
   ]
  },
  {
   "cell_type": "markdown",
   "id": "b1603b2c-6101-439f-92a5-88aef0d73516",
   "metadata": {},
   "source": [
    "### Exercise 14:\n",
    "Check if the string `\"data\"` starts with `\"da\"` and ends with `\"ta\""
   ]
  },
  {
   "cell_type": "code",
   "execution_count": 19,
   "id": "4e96d539-6ac4-4759-b117-42731634456a",
   "metadata": {},
   "outputs": [
    {
     "name": "stdout",
     "output_type": "stream",
     "text": [
      "True\n"
     ]
    }
   ],
   "source": [
    "check = \"data\".startswith(\"da\") and \"data\".endswith(\"ta\")\n",
    "print(check)"
   ]
  },
  {
   "cell_type": "markdown",
   "id": "a3a81b15-99f8-4996-8a04-a1730bb9493b",
   "metadata": {},
   "source": [
    "### Exercise 15:\n",
    "Reverse the string `\"machine learning\"` and store the result in `reversed_text`"
   ]
  },
  {
   "cell_type": "code",
   "execution_count": 20,
   "id": "d65ad261-e3f9-4d57-bcb7-315abbc0ac78",
   "metadata": {},
   "outputs": [
    {
     "name": "stdout",
     "output_type": "stream",
     "text": [
      "gninrael enihcam\n"
     ]
    }
   ],
   "source": [
    "reversed_text = \"machine learning\"[::-1]\n",
    "print(reversed_text)"
   ]
  },
  {
   "cell_type": "markdown",
   "id": "26145401-1d8e-4346-8cb1-ed8c1c995a39",
   "metadata": {},
   "source": [
    "### Exercise 16:\n",
    "Convert the first letter of each word in the string `\"machine learning is fun\"` to uppercase."
   ]
  },
  {
   "cell_type": "code",
   "execution_count": 21,
   "id": "8ddcedf7-bbde-4856-8393-c275099c13dd",
   "metadata": {},
   "outputs": [
    {
     "name": "stdout",
     "output_type": "stream",
     "text": [
      "Machine Learning Is Fun\n"
     ]
    }
   ],
   "source": [
    "title_case = \"machine learning is fun\".title()\n",
    "print(title_case)"
   ]
  },
  {
   "cell_type": "markdown",
   "id": "6df953e5-ff50-4481-917e-5ebf935ab9ad",
   "metadata": {},
   "source": [
    "\n",
    "### Exercise 17:\n",
    "Create a multiline string representing a poem and store it in a variable `poem`"
   ]
  },
  {
   "cell_type": "code",
   "execution_count": 22,
   "id": "838e1630-4099-4c56-ad9e-b63330146c0b",
   "metadata": {},
   "outputs": [
    {
     "name": "stdout",
     "output_type": "stream",
     "text": [
      "Roses are red,\n",
      "Violets are blue,\n",
      "Python is great,\n",
      "And so are you!\n"
     ]
    }
   ],
   "source": [
    "poem = \"\"\"Roses are red,\n",
    "Violets are blue,\n",
    "Python is great,\n",
    "And so are you!\"\"\"\n",
    "print(poem)"
   ]
  },
  {
   "cell_type": "markdown",
   "id": "5a8a0b59-9af4-4fe2-8477-ca337bd50258",
   "metadata": {},
   "source": [
    "### Exercise 18:\n",
    "Write a string to a file named `\"output.txt\"`"
   ]
  },
  {
   "cell_type": "code",
   "execution_count": 24,
   "id": "1abb0205-82f3-4f9e-b098-3bc203961cb7",
   "metadata": {},
   "outputs": [
    {
     "name": "stdout",
     "output_type": "stream",
     "text": [
      "This is the content for the output file.\n"
     ]
    }
   ],
   "source": [
    "output_string = \"This is the content for the output file.\"\n",
    "with open(\"output.txt\", \"w\") as f:\n",
    "    f.write(output_string)\n",
    "    print(output_string)"
   ]
  },
  {
   "cell_type": "markdown",
   "id": "80e4d8db-db9e-4046-ad6e-9e49c68b0054",
   "metadata": {},
   "source": [
    "### Exercise 19:\n",
    "Read the contents of a file named `\"data.txt\"` and print it line by line."
   ]
  },
  {
   "cell_type": "code",
   "execution_count": 25,
   "id": "8f0eade0-edfe-4256-a614-be974c352991",
   "metadata": {},
   "outputs": [
    {
     "name": "stdout",
     "output_type": "stream",
     "text": [
      "data.txt content:\n"
     ]
    },
    {
     "ename": "FileNotFoundError",
     "evalue": "[Errno 2] No such file or directory: 'data.txt'",
     "output_type": "error",
     "traceback": [
      "\u001b[1;31m---------------------------------------------------------------------------\u001b[0m",
      "\u001b[1;31mFileNotFoundError\u001b[0m                         Traceback (most recent call last)",
      "Cell \u001b[1;32mIn[25], line 2\u001b[0m\n\u001b[0;32m      1\u001b[0m \u001b[38;5;28mprint\u001b[39m(\u001b[38;5;124m\"\u001b[39m\u001b[38;5;124mdata.txt content:\u001b[39m\u001b[38;5;124m\"\u001b[39m)\n\u001b[1;32m----> 2\u001b[0m \u001b[38;5;28;01mwith\u001b[39;00m \u001b[38;5;28mopen\u001b[39m(\u001b[38;5;124m\"\u001b[39m\u001b[38;5;124mdata.txt\u001b[39m\u001b[38;5;124m\"\u001b[39m, \u001b[38;5;124m\"\u001b[39m\u001b[38;5;124mr\u001b[39m\u001b[38;5;124m\"\u001b[39m) \u001b[38;5;28;01mas\u001b[39;00m f:\n\u001b[0;32m      3\u001b[0m     \u001b[38;5;28;01mfor\u001b[39;00m line \u001b[38;5;129;01min\u001b[39;00m f:\n\u001b[0;32m      4\u001b[0m         \u001b[38;5;28mprint\u001b[39m(line\u001b[38;5;241m.\u001b[39mstrip())\n",
      "File \u001b[1;32m~\\anaconda3\\Lib\\site-packages\\IPython\\core\\interactiveshell.py:324\u001b[0m, in \u001b[0;36m_modified_open\u001b[1;34m(file, *args, **kwargs)\u001b[0m\n\u001b[0;32m    317\u001b[0m \u001b[38;5;28;01mif\u001b[39;00m file \u001b[38;5;129;01min\u001b[39;00m {\u001b[38;5;241m0\u001b[39m, \u001b[38;5;241m1\u001b[39m, \u001b[38;5;241m2\u001b[39m}:\n\u001b[0;32m    318\u001b[0m     \u001b[38;5;28;01mraise\u001b[39;00m \u001b[38;5;167;01mValueError\u001b[39;00m(\n\u001b[0;32m    319\u001b[0m         \u001b[38;5;124mf\u001b[39m\u001b[38;5;124m\"\u001b[39m\u001b[38;5;124mIPython won\u001b[39m\u001b[38;5;124m'\u001b[39m\u001b[38;5;124mt let you open fd=\u001b[39m\u001b[38;5;132;01m{\u001b[39;00mfile\u001b[38;5;132;01m}\u001b[39;00m\u001b[38;5;124m by default \u001b[39m\u001b[38;5;124m\"\u001b[39m\n\u001b[0;32m    320\u001b[0m         \u001b[38;5;124m\"\u001b[39m\u001b[38;5;124mas it is likely to crash IPython. If you know what you are doing, \u001b[39m\u001b[38;5;124m\"\u001b[39m\n\u001b[0;32m    321\u001b[0m         \u001b[38;5;124m\"\u001b[39m\u001b[38;5;124myou can use builtins\u001b[39m\u001b[38;5;124m'\u001b[39m\u001b[38;5;124m open.\u001b[39m\u001b[38;5;124m\"\u001b[39m\n\u001b[0;32m    322\u001b[0m     )\n\u001b[1;32m--> 324\u001b[0m \u001b[38;5;28;01mreturn\u001b[39;00m io_open(file, \u001b[38;5;241m*\u001b[39margs, \u001b[38;5;241m*\u001b[39m\u001b[38;5;241m*\u001b[39mkwargs)\n",
      "\u001b[1;31mFileNotFoundError\u001b[0m: [Errno 2] No such file or directory: 'data.txt'"
     ]
    }
   ],
   "source": [
    "print(\"data.txt content:\")\n",
    "with open(\"data.txt\", \"r\") as f:\n",
    "    for line in f:\n",
    "        print(line.strip())"
   ]
  },
  {
   "cell_type": "markdown",
   "id": "4bf9d017-5c05-4a5f-b8a0-cf72b3e25778",
   "metadata": {},
   "source": [
    "### Exercise 20:\n",
    "Check if a file `\"example.txt\"` exists before opening it."
   ]
  },
  {
   "cell_type": "code",
   "execution_count": 28,
   "id": "be36f92b-976f-4a82-a6f6-04f5fa05d71f",
   "metadata": {},
   "outputs": [
    {
     "name": "stdout",
     "output_type": "stream",
     "text": [
      "File 'example.txt' does not exist.\n"
     ]
    }
   ],
   "source": [
    "import os\n",
    "file_to_check = \"example.txt\"\n",
    "\n",
    "# Check if the file exists\n",
    "if os.path.exists(file_to_check):\n",
    "    print(f\"File '{file_to_check}' exists!\")\n",
    "else:\n",
    "    print(f\"File '{file_to_check}' does not exist.\")"
   ]
  },
  {
   "cell_type": "markdown",
   "id": "1ddbbd01-a9e7-473e-8a6c-e4e52e7cbc89",
   "metadata": {},
   "source": [
    "### Exercise 21:\n",
    "Append a new line `\"This is a new line\"` to an existing file `\"notes.txt\"`"
   ]
  },
  {
   "cell_type": "code",
   "execution_count": 29,
   "id": "ab09dd4f-f620-4f47-a814-c0ffff75a971",
   "metadata": {},
   "outputs": [],
   "source": [
    "with open(\"notes.txt\", \"a\") as f:\n",
    "    f.write(\"This is a new line\" + \"\\n\")"
   ]
  },
  {
   "cell_type": "markdown",
   "id": "f5d14ee5-bc4b-4c63-99c9-dc4bc1644a13",
   "metadata": {},
   "source": [
    "### Exercise 22:\n",
    "Read the contents of a file `\"log.txt\"` and store each line in a list `log_lines`."
   ]
  },
  {
   "cell_type": "code",
   "execution_count": 31,
   "id": "24f6ec52-6a89-42e9-a171-b565ff06d21e",
   "metadata": {},
   "outputs": [
    {
     "name": "stdout",
     "output_type": "stream",
     "text": [
      "['System log error: disk access failure.', 'Another log entry, no error.']\n"
     ]
    }
   ],
   "source": [
    "with open(\"log.txt\", \"w\") as f:\n",
    "    f.write(\"System log error: disk access failure.\\n\")\n",
    "    f.write(\"Another log entry, no error.\\n\")\n",
    "    \n",
    "log_lines = []\n",
    "with open(\"log.txt\", \"r\") as f:\n",
    "    log_lines = [line.strip() for line in f]\n",
    "    print(log_lines)"
   ]
  },
  {
   "cell_type": "markdown",
   "id": "c6d88b82-c349-46e7-b106-85fd5d96c34d",
   "metadata": {},
   "source": [
    "### Exercise 23:\n",
    "Create a new file `\"report.txt\"` and write the string `\"Data analysis report\"` to it."
   ]
  },
  {
   "cell_type": "code",
   "execution_count": 1,
   "id": "f10b3e45-9742-4949-b115-bfa0b4ca4ae3",
   "metadata": {},
   "outputs": [],
   "source": [
    "with open(\"report.txt\", \"w\") as f:\n",
    "    f.write(\"Data analysis report\")"
   ]
  },
  {
   "cell_type": "markdown",
   "id": "4e368df7-29ef-4ded-99a2-11c0e5cc4751",
   "metadata": {},
   "source": [
    "### Exercise 24:\n",
    "Replace the word `\"error\"` with `\"issue\"` in a file `\"log.txt\"`"
   ]
  },
  {
   "cell_type": "code",
   "execution_count": 63,
   "id": "e00a688a-6d35-4b0d-ad49-c24d16b7c63f",
   "metadata": {},
   "outputs": [],
   "source": [
    "with open(\"log.txt\", \"r\") as f:\n",
    "    content = f.read()\n",
    "modified_content = content.replace(\"error\", \"issue\")\n",
    "with open(\"log.txt\", \"w\") as f:\n",
    "    f.write(modified_content)"
   ]
  },
  {
   "cell_type": "markdown",
   "id": "2702d902-7907-443b-836b-f2519b7f80dc",
   "metadata": {},
   "source": [
    "\n",
    "### Exercise 25:\n",
    "Count the number of words in a text file `\"document.txt\""
   ]
  },
  {
   "cell_type": "code",
   "execution_count": 2,
   "id": "1d18e206-d3e2-40d6-a7af-34b379ec04f2",
   "metadata": {},
   "outputs": [
    {
     "name": "stdout",
     "output_type": "stream",
     "text": [
      "Erreur : Le fichier 'data/document.txt' n'a pas été trouvé. Vérifiez le chemin d'accès.\n"
     ]
    }
   ],
   "source": [
    "try:\n",
    "    with open(\"data/document.txt\", \"r\") as f:\n",
    "        content = f.read()\n",
    "        word_count = len(content.split())\n",
    "        \n",
    "    print(f\"Word Count: {word_count}\")\n",
    "\n",
    "except FileNotFoundError:\n",
    "    print(\"Erreur : Le fichier 'data/document.txt' n'a pas été trouvé. Vérifiez le chemin d'accès.\")"
   ]
  },
  {
   "cell_type": "markdown",
   "id": "cc8d933a-95cc-415f-9a62-87f474c4dc7a",
   "metadata": {},
   "source": [
    "### Exercise 26:\n",
    "Write a Python script that reads a file `\"essay.txt\"` and prints the total number of lines, words, and characters."
   ]
  },
  {
   "cell_type": "code",
   "execution_count": 2,
   "id": "c114adba-f43b-45b0-b804-319c0d610e8d",
   "metadata": {},
   "outputs": [],
   "source": [
    "def analyze_file(filename=\"essay.txt\"):\n",
    "    lines, words, chars = 0, 0, 0\n",
    "    with open(filename, \"r\") as f:\n",
    "        for line in f:\n",
    "            lines += 1\n",
    "            words += len(line.split())\n",
    "            chars += len(line.strip()) # strip() excludes the newline character from the count\n",
    "    return lines, words, chars"
   ]
  },
  {
   "cell_type": "markdown",
   "id": "26f9dec4-462e-4c7b-9dc9-aa34e31a0cca",
   "metadata": {},
   "source": [
    "### Exercise 27:\n",
    "Copy the contents of one file `\"source.txt\"` to another file `\"destination.txt\"`"
   ]
  },
  {
   "cell_type": "code",
   "execution_count": 60,
   "id": "144f0cee-e790-4d4e-838d-08aaa91cd8ca",
   "metadata": {},
   "outputs": [
    {
     "name": "stdout",
     "output_type": "stream",
     "text": [
      "File 'source.txt' successfully copied to 'destination.txt'.\n"
     ]
    }
   ],
   "source": [
    "# Create the necessary file \"source.txt\"\n",
    "with open(\"source.txt\", \"w\") as f:\n",
    "    f.write(\"Content to be copied.\")\n",
    "import shutil\n",
    "shutil.copyfile(\"source.txt\", \"destination.txt\")\n",
    "print(\"File 'source.txt' successfully copied to 'destination.txt'.\")"
   ]
  },
  {
   "cell_type": "markdown",
   "id": "fdc3fa15-b4c2-4686-acff-e8adbd71b9a8",
   "metadata": {},
   "source": [
    "### Exercise 28:\n",
    "Write a Python function that takes a filename as input and returns the number of lines in the file."
   ]
  },
  {
   "cell_type": "code",
   "execution_count": 3,
   "id": "4c34b095-b8ae-405f-9d6d-5628401a5b16",
   "metadata": {},
   "outputs": [],
   "source": [
    "def count_lines(filename):\n",
    "    with open(filename, \"r\") as f:\n",
    "        return sum(1 for line in f)"
   ]
  },
  {
   "cell_type": "markdown",
   "id": "40fec7ae-eaaa-4712-99c5-5856aba54f16",
   "metadata": {},
   "source": [
    "### Exercise 29:\n",
    "Extract all the words from a text file `\"article.txt\"` that contain more than 5 characters."
   ]
  },
  {
   "cell_type": "code",
   "execution_count": 42,
   "id": "640767bd-cb8b-48df-8050-d4566fa6e907",
   "metadata": {},
   "outputs": [],
   "source": [
    "import re\n",
    "def extract_long_words(filename=\"article.txt\"):\n",
    "    with open(filename, \"r\") as f:\n",
    "        content = f.read()\n",
    "    words = re.findall(r'\\b[a-zA-Z]+\\b', content) # Find sequences of letters\n",
    "    long_words = [word for word in words if len(word) > 5]\n",
    "    return long_words"
   ]
  },
  {
   "cell_type": "markdown",
   "id": "bf4af5d9-0db1-4496-b43d-0b70921566b9",
   "metadata": {},
   "source": [
    "### Exercise 30:\n",
    "Convert the contents of a file `\"notes.txt\"` to uppercase and save the result in another file `\"uppercase_notes.txt\"`."
   ]
  },
  {
   "cell_type": "code",
   "execution_count": 44,
   "id": "db8dad58-f1b8-457b-b425-70ca76ef1f70",
   "metadata": {},
   "outputs": [],
   "source": [
    "def to_uppercase(source_file, dest_file=\"uppercase_notes.txt\"):\n",
    "    with open(source_file, \"r\") as src:\n",
    "        content = src.read().upper()\n",
    "    with open(dest_file, \"w\") as dest:\n",
    "        dest.write(content)"
   ]
  },
  {
   "cell_type": "markdown",
   "id": "0af9b26f-d8c5-499c-ba52-f54663acc818",
   "metadata": {},
   "source": [
    "### Exercise 31:\n",
    "Write a Python script that reads a file and removes all empty lines."
   ]
  },
  {
   "cell_type": "code",
   "execution_count": 59,
   "id": "2835c9d6-bb6e-42f2-b318-f7207cfce0b6",
   "metadata": {},
   "outputs": [],
   "source": [
    "def remove_empty_lines_and_save(filename):\n",
    "    with open(filename, \"r\") as f:\n",
    "        lines = f.readlines()\n",
    "    \n",
    "    non_empty_lines = [line for line in lines if line.strip()]\n",
    "    \n",
    "    # ÉCRIRE les lignes non vides dans le fichier (mode 'w' pour écraser)\n",
    "    with open(filename, \"w\") as f:\n",
    "        f.writelines(non_empty_lines)\n",
    "    \n",
    "    # Rien n'est affiché ni retourné"
   ]
  },
  {
   "cell_type": "markdown",
   "id": "a94d45cf-a30b-455c-85d5-a2c0981a7cbb",
   "metadata": {},
   "source": [
    "\n",
    "### Exercise 32:\n",
    "Open a file `\"config.txt\"` in both read and write mode."
   ]
  },
  {
   "cell_type": "code",
   "execution_count": 57,
   "id": "8cfa9871-1c57-4b13-8537-927677a05ebd",
   "metadata": {},
   "outputs": [
    {
     "name": "stdout",
     "output_type": "stream",
     "text": [
      "Exercise 32 Error: [Errno 2] No such file or directory: 'config.txt'\n"
     ]
    }
   ],
   "source": [
    "# Exercise 32 (Correct Code Structure)\n",
    "try:\n",
    "    with open(\"config.txt\", \"r+\") as f:\n",
    "        f.seek(0)\n",
    "        f.write(\"New config data.\")\n",
    "        f.seek(0)\n",
    "        config_content = f.read().strip() # <--- Error most likely occurred here\n",
    "    print(f\"Exercise 32 (config.txt in r+ mode): {config_content}\")\n",
    "except Exception as e:\n",
    "    print(f\"Exercise 32 Error: {e}\")"
   ]
  },
  {
   "cell_type": "markdown",
   "id": "0ab5cb1b-7ca0-40df-beaa-9b8d2421a561",
   "metadata": {},
   "source": [
    "### Exercise 33:\n",
    "Write a Python function that reads a file and prints the longest line in the file."
   ]
  },
  {
   "cell_type": "code",
   "execution_count": 65,
   "id": "2e2e8884-4fef-4ff2-925c-86896f65a3a2",
   "metadata": {},
   "outputs": [],
   "source": [
    "def get_longest_line(filename):\n",
    "    longest_line = \"\"\n",
    "    max_len = 0\n",
    "    with open(filename, \"r\") as f:\n",
    "        for line in f:\n",
    "            if len(line.strip()) > max_len:\n",
    "                max_len = len(line.strip())\n",
    "                longest_line = line.strip()\n",
    "    return longest_line"
   ]
  },
  {
   "cell_type": "markdown",
   "id": "95205536-b0a7-45fd-939f-b6ac9f0d2050",
   "metadata": {},
   "source": [
    "### Exercise 34:\n",
    "Write a Python script to count the frequency of each letter in a text file `\"message.txt\"`"
   ]
  },
  {
   "cell_type": "code",
   "execution_count": 49,
   "id": "f9415f04-0c4c-46a8-9074-5802499b67c5",
   "metadata": {},
   "outputs": [],
   "source": [
    "from collections import Counter\n",
    "def count_letter_frequency(filename=\"message.txt\"):\n",
    "    with open(filename, \"r\") as f:\n",
    "        content = f.read().lower()\n",
    "    letters = [char for char in content if 'a' <= char <= 'z']\n",
    "    return Counter(letters)"
   ]
  },
  {
   "cell_type": "markdown",
   "id": "41cba46b-4bb0-4c06-962a-1845b4ca7610",
   "metadata": {},
   "source": [
    "### Exercise 35:\n",
    "Write a Python script that reads a file and prints the total number of characters, excluding spaces."
   ]
  },
  {
   "cell_type": "code",
   "execution_count": 50,
   "id": "d250cc2e-f784-4b66-8658-edfbf44a7cb5",
   "metadata": {},
   "outputs": [],
   "source": [
    "def count_non_space_chars(filename):\n",
    "    count = 0\n",
    "    with open(filename, \"r\") as f:\n",
    "        for line in f:\n",
    "            stripped_line = line.strip()\n",
    "            count += len(stripped_line) - stripped_line.count(' ')\n",
    "    return count"
   ]
  },
  {
   "cell_type": "markdown",
   "id": "fd3fbf02-968e-4195-9ac2-021a0cb27b87",
   "metadata": {},
   "source": [
    "### Exercise 36:\n",
    "Create a Python script to check whether a file is empty or not."
   ]
  },
  {
   "cell_type": "code",
   "execution_count": 51,
   "id": "e77bb29b-88da-4830-8fa0-5a9ed29f6374",
   "metadata": {},
   "outputs": [],
   "source": [
    "import os\n",
    "def is_file_empty(filename):\n",
    "    return os.path.getsize(filename) == 0"
   ]
  },
  {
   "cell_type": "markdown",
   "id": "107ca794-c341-4a4f-abfe-5447c715f675",
   "metadata": {},
   "source": [
    "### Exercise 37:\n",
    "Write a Python function that reads a file and removes all punctuation marks from the text."
   ]
  },
  {
   "cell_type": "code",
   "execution_count": 52,
   "id": "649d32f4-e39f-4374-a2b9-a650e0fd391c",
   "metadata": {},
   "outputs": [],
   "source": [
    "import string\n",
    "def remove_punctuation(filename):\n",
    "    with open(filename, 'r') as f:\n",
    "        content = f.read()\n",
    "    translator = str.maketrans('', '', string.punctuation)\n",
    "    clean_text = content.translate(translator)\n",
    "    return clean_text"
   ]
  },
  {
   "cell_type": "markdown",
   "id": "8e9fc1ce-64d0-4b45-9f5d-8d2f06c434da",
   "metadata": {},
   "source": [
    "### Exercise 38:\n",
    "Create a Python function that writes a list of strings to a file, each string on a new line."
   ]
  },
  {
   "cell_type": "code",
   "execution_count": 53,
   "id": "6348cc1b-5a10-4c05-831a-93986e3a09d3",
   "metadata": {},
   "outputs": [],
   "source": [
    "def write_list_to_file(data_list, filename=\"list_output.txt\"):\n",
    "    with open(filename, \"w\") as f:\n",
    "        f.writelines(line + '\\n' for line in data_list)"
   ]
  },
  {
   "cell_type": "markdown",
   "id": "090e0406-d107-408a-9e9c-6208fa9cbbc7",
   "metadata": {},
   "source": [
    "### Exercise 39:\n",
    "Write a Python script to count the number of lines that start with a specific letter (e.g., \"A\") in a text file."
   ]
  },
  {
   "cell_type": "code",
   "execution_count": 54,
   "id": "1d5c733c-031a-4ead-bdc7-f632e2200631",
   "metadata": {},
   "outputs": [],
   "source": [
    "def count_lines_starting_with(filename, letter=\"A\"):\n",
    "    count = 0\n",
    "    with open(filename, \"r\") as f:\n",
    "        for line in f:\n",
    "            if line.strip().startswith(letter):\n",
    "                count += 1\n",
    "    return count"
   ]
  },
  {
   "cell_type": "markdown",
   "id": "f87c7efd-8818-4311-8a77-bf7607c1b593",
   "metadata": {},
   "source": [
    "### Exercise 40:\n",
    "Write a Python function that takes a string as input and writes it to a file `\"output.txt\"` in reverse order."
   ]
  },
  {
   "cell_type": "code",
   "execution_count": 1,
   "id": "5438679f-9d6d-40f9-a57e-241ef69c1e3f",
   "metadata": {},
   "outputs": [],
   "source": [
    "def reverse_write(input_string, filename=\"output_reversed.txt\"):\n",
    "    reversed_string = input_string[::-1]\n",
    "    with open(filename, \"w\") as f:\n",
    "        f.write(reversed_string)"
   ]
  },
  {
   "cell_type": "code",
   "execution_count": 4,
   "id": "14f0c73f-a874-4e55-8311-72bd742952ce",
   "metadata": {},
   "outputs": [
    {
     "name": "stdout",
     "output_type": "stream",
     "text": [
      "EXERCISE 40: Reversed string written to 'output.txt'.\n",
      "Original: 'Hello, File Handling!' -> Reversed: '!gnildnaH eliF ,olleH'\n",
      "----------------------------------------\n"
     ]
    }
   ],
   "source": [
    "def write_reversed(input_string):\n",
    "    reversed_string = input_string[::-1]\n",
    "    output_filepath = \"output.txt\"\n",
    "    try:\n",
    "        with open(output_filepath, \"w\") as f:\n",
    "            f.write(reversed_string)\n",
    "        print(f\"EXERCISE 40: Reversed string written to '{output_filepath}'.\")\n",
    "        print(f\"Original: '{input_string}' -> Reversed: '{reversed_string}'\")\n",
    "    except IOError as e:\n",
    "        print(f\"Error writing file: {e}\")\n",
    "\n",
    "write_reversed(\"Hello, File Handling!\")\n",
    "print(\"-\" * 40)"
   ]
  },
  {
   "cell_type": "markdown",
   "id": "577e006c-999b-4e1d-b2e2-a1c3405ab546",
   "metadata": {},
   "source": [
    "### Exercise 41:\n",
    "Write a Python script that reads a file and prints all the lines that contain the word \"Python\"."
   ]
  },
  {
   "cell_type": "code",
   "execution_count": 5,
   "id": "fb3dcf83-84e5-412c-8504-f65fc49997c8",
   "metadata": {},
   "outputs": [
    {
     "name": "stdout",
     "output_type": "stream",
     "text": [
      "EXERCISE 41: Lines in 'sample_text.txt' containing 'Python':\n",
      "Error: File 'sample_text.txt' not found.\n",
      "----------------------------------------\n"
     ]
    }
   ],
   "source": [
    "def find_lines_with_python(filepath=\"sample_text.txt\"):\n",
    "    print(f\"EXERCISE 41: Lines in '{filepath}' containing 'Python':\")\n",
    "    try:\n",
    "        with open(filepath, \"r\") as f:\n",
    "            for line_number, line in enumerate(f, 1):\n",
    "                if \"Python\" in line:\n",
    "                    print(f\"  Line {line_number}: {line.strip()}\")\n",
    "    except FileNotFoundError:\n",
    "        print(f\"Error: File '{filepath}' not found.\")\n",
    "\n",
    "find_lines_with_python()\n",
    "print(\"-\" * 40)"
   ]
  },
  {
   "cell_type": "markdown",
   "id": "e39dcb4d-4ec1-4e90-9806-1947200bd4e6",
   "metadata": {},
   "source": [
    "### Exercise 42:\n",
    "Write a Python script that opens a file and removes all numeric digits from the file's content"
   ]
  },
  {
   "cell_type": "code",
   "execution_count": 6,
   "id": "f3f1e603-cc6a-45f9-a882-b647d0657db2",
   "metadata": {},
   "outputs": [
    {
     "name": "stdout",
     "output_type": "stream",
     "text": [
      "EXERCISE 42: Removing digits from 'data_with_digits.txt'.\n",
      "Error: File 'data_with_digits.txt' not found.\n",
      "----------------------------------------\n"
     ]
    }
   ],
   "source": [
    "def remove_digits(filepath=\"data_with_digits.txt\"):\n",
    "    print(f\"EXERCISE 42: Removing digits from '{filepath}'.\")\n",
    "    try:\n",
    "        with open(filepath, \"r\") as f:\n",
    "            content = f.read()\n",
    "\n",
    "        # Use regex to find all digits (\\d) and replace them with an empty string\n",
    "        content_without_digits = re.sub(r'\\d', '', content)\n",
    "\n",
    "        print(f\"  Original content: '{content.strip()}'\")\n",
    "        print(f\"  Modified content: '{content_without_digits.strip()}'\")\n",
    "\n",
    "        # Note: If you wanted to *overwrite* the file, you would use:\n",
    "        # with open(filepath, \"w\") as f:\n",
    "        #     f.write(content_without_digits)\n",
    "\n",
    "    except FileNotFoundError:\n",
    "        print(f\"Error: File '{filepath}' not found.\")\n",
    "\n",
    "remove_digits()\n",
    "print(\"-\" * 40)"
   ]
  },
  {
   "cell_type": "markdown",
   "id": "386f73ee-887d-4828-87f9-0aa7ea4e4537",
   "metadata": {},
   "source": [
    "### Exercise 43:\n",
    "Write a Python script to find the most frequent word in a text file \"book.txt\""
   ]
  },
  {
   "cell_type": "code",
   "execution_count": 7,
   "id": "37355cb5-3e71-4f3b-9f59-c23efcb56bba",
   "metadata": {},
   "outputs": [
    {
     "name": "stdout",
     "output_type": "stream",
     "text": [
      "EXERCISE 43: Finding the most frequent word in 'book.txt'.\n",
      "Error: File 'book.txt' not found.\n",
      "----------------------------------------\n"
     ]
    }
   ],
   "source": [
    "def find_most_frequent_word(filepath=\"book.txt\"):\n",
    "    print(f\"EXERCISE 43: Finding the most frequent word in '{filepath}'.\")\n",
    "    try:\n",
    "        with open(filepath, \"r\") as f:\n",
    "            content = f.read()\n",
    "        cleaned_content = re.sub(r'[^\\w\\s]', '', content).lower()\n",
    "        \n",
    "        words = cleaned_content.split()\n",
    "        \n",
    "        # 1. Use Counter to count word frequencies\n",
    "        word_counts = Counter(words)\n",
    "\n",
    "        if not word_counts:\n",
    "            print(\"  The file contains no words.\")\n",
    "            return\n",
    "\n",
    "        # 2. Find the most common word\n",
    "        most_common = word_counts.most_common(1)\n",
    "        \n",
    "        if most_common:\n",
    "            word, count = most_common[0]\n",
    "            print(f\"  The most frequent word is: '{word}' (occurred {count} times)\")\n",
    "        \n",
    "    except FileNotFoundError:\n",
    "        print(f\"Error: File '{filepath}' not found.\")\n",
    "\n",
    "find_most_frequent_word()\n",
    "print(\"-\" * 40)\n"
   ]
  },
  {
   "cell_type": "markdown",
   "id": "ab884fbf-4a9f-42f7-963d-df92457bb501",
   "metadata": {},
   "source": [
    "### Exercise 44:\n",
    "Write a Python script that reads a file and prints all the lines that contain exactly 5 words."
   ]
  },
  {
   "cell_type": "code",
   "execution_count": 8,
   "id": "7f0146ef-4cc5-4069-b4cd-2ce7cc5a43b8",
   "metadata": {},
   "outputs": [
    {
     "name": "stdout",
     "output_type": "stream",
     "text": [
      "EXERCISE 44: Lines in 'sample_text.txt' containing exactly 5 words:\n",
      "Error: File 'sample_text.txt' not found.\n",
      "----------------------------------------\n"
     ]
    }
   ],
   "source": [
    "def find_lines_with_five_words(filepath=\"sample_text.txt\"):\n",
    "    print(f\"EXERCISE 44: Lines in '{filepath}' containing exactly 5 words:\")\n",
    "    try:\n",
    "        with open(filepath, \"r\") as f:\n",
    "            for line_number, line in enumerate(f, 1):\n",
    "                words = line.strip().split()\n",
    "                \n",
    "                # Check if the list of words has exactly 5 elements\n",
    "                if len(words) == 5:\n",
    "                    print(f\"  Line {line_number}: {line.strip()}\")\n",
    "    except FileNotFoundError:\n",
    "        print(f\"Error: File '{filepath}' not found.\")\n",
    "\n",
    "find_lines_with_five_words()\n",
    "print(\"-\" * 40)"
   ]
  },
  {
   "cell_type": "markdown",
   "id": "0df89269-3e80-4b5d-b97f-cfc552b4f908",
   "metadata": {},
   "source": [
    "### Exercise 45:\n",
    "Write a Python script to read a file and print the first and last line of the file"
   ]
  },
  {
   "cell_type": "code",
   "execution_count": 9,
   "id": "ef1544e2-86f8-40ca-93c0-036d6d6d2e2b",
   "metadata": {},
   "outputs": [
    {
     "name": "stdout",
     "output_type": "stream",
     "text": [
      "EXERCISE 45: First and last line of 'sample_text.txt':\n",
      "Error: File 'sample_text.txt' not found.\n",
      "----------------------------------------\n"
     ]
    }
   ],
   "source": [
    "def print_first_and_last_line(filepath=\"sample_text.txt\"):\n",
    "    print(f\"EXERCISE 45: First and last line of '{filepath}':\")\n",
    "    try:\n",
    "        with open(filepath, \"r\") as f:\n",
    "            lines = f.readlines()\n",
    "\n",
    "        if not lines:\n",
    "            print(\"  The file is empty.\")\n",
    "            return\n",
    "\n",
    "        # The first line is always at index 0\n",
    "        first_line = lines[0].strip()\n",
    "        \n",
    "        # The last line is always at index -1\n",
    "        last_line = lines[-1].strip()\n",
    "\n",
    "        print(f\"  First line: '{first_line}'\")\n",
    "        print(f\"  Last line: '{last_line}'\")\n",
    "\n",
    "    except FileNotFoundError:\n",
    "        print(f\"Error: File '{filepath}' not found.\")\n",
    "\n",
    "print_first_and_last_line()\n",
    "print(\"-\" * 40)\n"
   ]
  },
  {
   "cell_type": "markdown",
   "id": "8d106271-562b-4d6e-a365-f13f4ad030e4",
   "metadata": {},
   "source": [
    "### Exercise 46:\n",
    "Write a Python script that checks if a file \"students.txt\" is writable"
   ]
  },
  {
   "cell_type": "code",
   "execution_count": null,
   "id": "524f34cd-89d1-4ac3-9a00-91ec016fed86",
   "metadata": {},
   "outputs": [],
   "source": [
    "def check_writable(filepath=STUDENTS_FILE):\n",
    "    print(f\"EXERCISE 46: Checking if '{filepath}' is writable...\")\n",
    "    \n",
    "    is_writable = False\n",
    "    try:\n",
    "        # Attempt to open the file in append mode ('a') which requires write permission\n",
    "        with open(filepath, \"a\"):\n",
    "            is_writable = True\n",
    "    except IOError:\n",
    "        is_writable = False\n",
    "        \n",
    "    if is_writable:\n",
    "        print(f\"  Success: The file '{filepath}' IS writable.\")\n",
    "    else:\n",
    "        print(f\"  Fail: The file '{filepath}' IS NOT writable.\")\n",
    "\n",
    "check_writable()\n",
    "print(\"-\" * 40)\n"
   ]
  },
  {
   "cell_type": "markdown",
   "id": "983405e4-0a15-41e4-a8be-a044f1968c6d",
   "metadata": {},
   "source": [
    "### Exercise 47:\n",
    "Create a Python function that opens a file and returns the number of unique words in the file."
   ]
  },
  {
   "cell_type": "code",
   "execution_count": 11,
   "id": "aa7e5302-319c-460b-a978-ff7258d87f51",
   "metadata": {},
   "outputs": [
    {
     "name": "stdout",
     "output_type": "stream",
     "text": [
      "EXERCISE 47: Counting unique words in 'book.txt'.\n",
      "Error: File 'book.txt' not found.\n",
      "----------------------------------------\n"
     ]
    }
   ],
   "source": [
    "def count_unique_words(filepath=\"book.txt\"):\n",
    "    print(f\"EXERCISE 47: Counting unique words in '{filepath}'.\")\n",
    "    try:\n",
    "        with open(filepath, \"r\") as f:\n",
    "            content = f.read()\n",
    "\n",
    "        cleaned_content = re.sub(r'[^\\w\\s]', '', content).lower()\n",
    "        \n",
    "        words = cleaned_content.split()\n",
    "        \n",
    "        # Use a set to store unique words, then find the size of the set\n",
    "        unique_words_count = len(set(words))\n",
    "        \n",
    "        print(f\"  The file contains {unique_words_count} unique words.\")\n",
    "        return unique_words_count\n",
    "        \n",
    "    except FileNotFoundError:\n",
    "        print(f\"Error: File '{filepath}' not found.\")\n",
    "        return 0\n",
    "\n",
    "count_unique_words()\n",
    "print(\"-\" * 40)"
   ]
  },
  {
   "cell_type": "markdown",
   "id": "692b8a30-b28e-4793-b57d-d2327443dd22",
   "metadata": {},
   "source": [
    "### Exercise 48:\n",
    "Write a Python script that reads a file and prints all lines in reverse order"
   ]
  },
  {
   "cell_type": "code",
   "execution_count": 13,
   "id": "ff91768b-4bb7-4f26-b45a-0c59f387f233",
   "metadata": {},
   "outputs": [
    {
     "name": "stdout",
     "output_type": "stream",
     "text": [
      "EXERCISE 48: Printing lines from 'sample_text.txt' in reverse order:\n",
      "Error: File 'sample_text.txt' not found.\n",
      "----------------------------------------\n"
     ]
    }
   ],
   "source": [
    "def print_lines_in_reverse(filepath=\"sample_text.txt\"):\n",
    "    print(f\"EXERCISE 48: Printing lines from '{filepath}' in reverse order:\")\n",
    "    try:\n",
    "        with open(filepath, \"r\") as f:\n",
    "            lines = f.readlines()\n",
    "        \n",
    "        # Reverse the list of lines\n",
    "        reversed_lines = lines[::-1]\n",
    "        \n",
    "        for line in reversed_lines:\n",
    "            print(f\"  {line.strip()}\")\n",
    "\n",
    "    except FileNotFoundError:\n",
    "        print(f\"Error: File '{filepath}' not found.\")\n",
    "\n",
    "print_lines_in_reverse()\n",
    "print(\"-\" * 40)"
   ]
  },
  {
   "cell_type": "markdown",
   "id": "983a3a56-16e4-4651-8333-080f11f42c6d",
   "metadata": {},
   "source": [
    "### Exercise 49:\n",
    "Write a Python function that reads a file and returns the most common letter in the text."
   ]
  },
  {
   "cell_type": "code",
   "execution_count": 14,
   "id": "43ab7c2c-4f59-41ce-8c5c-0d2f017ab874",
   "metadata": {},
   "outputs": [
    {
     "name": "stdout",
     "output_type": "stream",
     "text": [
      "EXERCISE 49: Finding the most common letter in 'book.txt'.\n",
      "Error: File 'book.txt' not found.\n",
      "----------------------------------------\n"
     ]
    }
   ],
   "source": [
    "def most_common_letter(filepath=\"book.txt\"):\n",
    "    print(f\"EXERCISE 49: Finding the most common letter in '{filepath}'.\")\n",
    "    try:\n",
    "        with open(filepath, \"r\") as f:\n",
    "            content = f.read()\n",
    "\n",
    "        cleaned_content = re.sub(r'[^a-z]', '', content.lower())\n",
    "        \n",
    "        # 1. Use Counter to count letter frequencies\n",
    "        letter_counts = Counter(cleaned_content)\n",
    "\n",
    "        if not letter_counts:\n",
    "            print(\"  The file contains no letters (a-z).\")\n",
    "            return None\n",
    "\n",
    "        # 2. Find the most common letter\n",
    "        most_common = letter_counts.most_common(1)\n",
    "        \n",
    "        if most_common:\n",
    "            letter, count = most_common[0]\n",
    "            print(f\"  The most common letter is: '{letter}' (occurred {count} times)\")\n",
    "            return letter\n",
    "        \n",
    "    except FileNotFoundError:\n",
    "        print(f\"Error: File '{filepath}' not found.\")\n",
    "        return None\n",
    "\n",
    "most_common_letter()\n",
    "print(\"-\" * 40)"
   ]
  },
  {
   "cell_type": "markdown",
   "id": "6f9c39a2-44e9-4017-bc9b-7cfb9bf4dce4",
   "metadata": {},
   "source": [
    "### Exercise 50:\n",
    "Write a Python script that reads a file and replaces every occurrence of `\"Python\"` with `\"Java\"`"
   ]
  },
  {
   "cell_type": "code",
   "execution_count": 1,
   "id": "388bbba1-52c7-4047-bb99-28ece4cc2030",
   "metadata": {},
   "outputs": [
    {
     "name": "stdout",
     "output_type": "stream",
     "text": [
      "EXERCISE 50: Replacing 'Python' with 'Java' in 'input_data.txt'.\n",
      "Error: File 'input_data.txt' not found. Make sure this file exists.\n",
      "----------------------------------------\n"
     ]
    }
   ],
   "source": [
    "REPLACE_FILE = \"input_data.txt\" \n",
    "\n",
    "def replace_words(filepath=REPLACE_FILE, search=\"Python\", replace=\"Java\"):\n",
    "    \"\"\"Reads a file and replaces all occurrences of a word with another.\"\"\"\n",
    "    print(f\"EXERCISE 50: Replacing '{search}' with '{replace}' in '{filepath}'.\")\n",
    "    output_filepath = \"replaced_output.txt\"\n",
    "    try:\n",
    "        # Utilisation de 'r' pour la lecture\n",
    "        with open(filepath, \"r\") as f:\n",
    "            content = f.read()\n",
    "            \n",
    "        modified_content = content.replace(search, replace)\n",
    "        \n",
    "        # Écrit le contenu modifié dans un nouveau fichier (ou écrase l'ancien)\n",
    "        # Utilisation de 'w' pour l'écriture\n",
    "        with open(output_filepath, \"w\") as f:\n",
    "            f.write(modified_content)\n",
    "            \n",
    "        print(f\"  Original content: '{content.strip()}'\")\n",
    "        print(f\"  Modified content written to '{output_filepath}': '{modified_content.strip()}'\")\n",
    "\n",
    "    except FileNotFoundError:\n",
    "        print(f\"Error: File '{filepath}' not found. Make sure this file exists.\") # Message d'erreur amélioré\n",
    "\n",
    "replace_words()\n",
    "print(\"-\" * 40)"
   ]
  },
  {
   "cell_type": "code",
   "execution_count": null,
   "id": "c1852c4f-e77b-49b3-af9d-0142af753817",
   "metadata": {},
   "outputs": [],
   "source": []
  },
  {
   "cell_type": "markdown",
   "id": "112e323c-a5ca-477a-9ce1-fe10643566ce",
   "metadata": {
    "id": "bea983a3"
   },
   "source": [
    "---\n",
    "\n",
    "### Exercise 1:\n",
    "Create a string variable `text` and assign it the value `\"Python is amazing!\"`.\n",
    "\n",
    "```python\n",
    "# Exercise 1\n",
    "```\n",
    "\n",
    "---\n",
    "\n",
    "### Exercise 2:\n",
    "Find the length of the string `\"Hello, World!\"` and store it in a variable `length`.\n",
    "\n",
    "```python\n",
    "# Exercise 2\n",
    "```\n",
    "\n",
    "---\n",
    "\n",
    "### Exercise 3:\n",
    "Convert the string `\"python programming\"` to uppercase and store it in a variable `upper_text`.\n",
    "\n",
    "```python\n",
    "# Exercise 3\n",
    "```\n",
    "\n",
    "---\n",
    "\n",
    "### Exercise 4:\n",
    "Extract the first 5 characters from the string `\"Artificial Intelligence\"`.\n",
    "\n",
    "```python\n",
    "# Exercise 4\n",
    "```\n",
    "\n",
    "---\n",
    "\n",
    "### Exercise 5:\n",
    "Concatenate the strings `\"Hello\"` and `\"World\"` with a space in between.\n",
    "\n",
    "```python\n",
    "# Exercise 5\n",
    "```\n",
    "\n",
    "---\n",
    "\n",
    "### Exercise 6:\n",
    "Replace the word `\"dog\"` with `\"cat\"` in the string `\"The quick brown dog jumps over the lazy dog.\"`.\n",
    "\n",
    "```python\n",
    "# Exercise 6\n",
    "```\n",
    "\n",
    "---\n",
    "\n",
    "### Exercise 7:\n",
    "Split the string `\"apple,banana,orange\"` by commas and store the result in a list `fruits_list`.\n",
    "\n",
    "```python\n",
    "# Exercise 7\n",
    "```\n",
    "\n",
    "---\n",
    "\n",
    "### Exercise 8:\n",
    "Use string formatting to create the sentence `\"My name is Alice and I am 25 years old.\"`, where the name and age are variables.\n",
    "\n",
    "```python\n",
    "# Exercise 8\n",
    "```\n",
    "\n",
    "---\n",
    "\n",
    "### Exercise 9:\n",
    "Check if the string `\"python\"` is present in the sentence `\"I love python programming\"`.\n",
    "\n",
    "```python\n",
    "# Exercise 9\n",
    "```\n",
    "\n",
    "---\n",
    "\n",
    "### Exercise 10:\n",
    "Count the number of occurrences of the letter `\"e\"` in the string `\"Elephant is an elegant animal\"`.\n",
    "\n",
    "```python\n",
    "# Exercise 10\n",
    "```\n",
    "\n",
    "---\n",
    "\n",
    "### Exercise 11:\n",
    "Remove any leading and trailing spaces from the string `\"   Data Science   \"`.\n",
    "\n",
    "```python\n",
    "# Exercise 11\n",
    "```\n",
    "\n",
    "---\n",
    "\n",
    "### Exercise 12:\n",
    "Convert the string `\"100\"` into an integer and store it in a variable `int_value`.\n",
    "\n",
    "```python\n",
    "# Exercise 12\n",
    "```\n",
    "\n",
    "---\n",
    "\n",
    "### Exercise 13:\n",
    "Extract the substring `\"pro\"` from the string `\"programming\"`.\n",
    "\n",
    "```python\n",
    "# Exercise 13\n",
    "```\n",
    "\n",
    "---\n",
    "\n",
    "### Exercise 14:\n",
    "Check if the string `\"data\"` starts with `\"da\"` and ends with `\"ta\"`.\n",
    "\n",
    "```python\n",
    "# Exercise 14\n",
    "```\n",
    "\n",
    "---\n",
    "\n",
    "### Exercise 15:\n",
    "Reverse the string `\"machine learning\"` and store the result in `reversed_text`.\n",
    "\n",
    "```python\n",
    "# Exercise 15\n",
    "```\n",
    "\n",
    "---\n",
    "\n",
    "### Exercise 16:\n",
    "Convert the first letter of each word in the string `\"machine learning is fun\"` to uppercase.\n",
    "\n",
    "```python\n",
    "# Exercise 16\n",
    "```\n",
    "\n",
    "---\n",
    "\n",
    "### Exercise 17:\n",
    "Create a multiline string representing a poem and store it in a variable `poem`.\n",
    "\n",
    "```python\n",
    "# Exercise 17\n",
    "```\n",
    "\n",
    "---\n",
    "\n",
    "### Exercise 18:\n",
    "Write a string to a file named `\"output.txt\"`.\n",
    "\n",
    "```python\n",
    "# Exercise 18\n",
    "```\n",
    "\n",
    "---\n",
    "\n",
    "### Exercise 19:\n",
    "Read the contents of a file named `\"data.txt\"` and print it line by line.\n",
    "\n",
    "```python\n",
    "# Exercise 19\n",
    "```\n",
    "\n",
    "---\n",
    "\n",
    "### Exercise 20:\n",
    "Check if a file `\"example.txt\"` exists before opening it.\n",
    "\n",
    "```python\n",
    "# Exercise 20\n",
    "```\n",
    "\n",
    "---\n",
    "\n",
    "### Exercise 21:\n",
    "Append a new line `\"This is a new line\"` to an existing file `\"notes.txt\"`.\n",
    "\n",
    "```python\n",
    "# Exercise 21\n",
    "```\n",
    "\n",
    "---\n",
    "\n",
    "### Exercise 22:\n",
    "Read the contents of a file `\"log.txt\"` and store each line in a list `log_lines`.\n",
    "\n",
    "```python\n",
    "# Exercise 22\n",
    "```\n",
    "\n",
    "---\n",
    "\n",
    "### Exercise 23:\n",
    "Create a new file `\"report.txt\"` and write the string `\"Data analysis report\"` to it.\n",
    "\n",
    "```python\n",
    "# Exercise 23\n",
    "```\n",
    "\n",
    "---\n",
    "\n",
    "### Exercise 24:\n",
    "Replace the word `\"error\"` with `\"issue\"` in a file `\"log.txt\"`.\n",
    "\n",
    "```python\n",
    "# Exercise 24\n",
    "```\n",
    "\n",
    "---\n",
    "\n",
    "### Exercise 25:\n",
    "Count the number of words in a text file `\"document.txt\"`.\n",
    "\n",
    "```python\n",
    "# Exercise 25\n",
    "```\n",
    "\n",
    "---\n",
    "\n",
    "### Exercise 26:\n",
    "Write a Python script that reads a file `\"essay.txt\"` and prints the total number of lines, words, and characters.\n",
    "\n",
    "```python\n",
    "# Exercise 26\n",
    "```\n",
    "\n",
    "---\n",
    "\n",
    "### Exercise 27:\n",
    "Copy the contents of one file `\"source.txt\"` to another file `\"destination.txt\"`.\n",
    "\n",
    "```python\n",
    "# Exercise 27\n",
    "```\n",
    "\n",
    "---\n",
    "\n",
    "### Exercise 28:\n",
    "Write a Python function that takes a filename as input and returns the number of lines in the file.\n",
    "\n",
    "```python\n",
    "# Exercise 28\n",
    "```\n",
    "\n",
    "---\n",
    "\n",
    "### Exercise 29:\n",
    "Extract all the words from a text file `\"article.txt\"` that contain more than 5 characters.\n",
    "\n",
    "```python\n",
    "# Exercise 29\n",
    "```\n",
    "\n",
    "---\n",
    "\n",
    "### Exercise 30:\n",
    "Convert the contents of a file `\"notes.txt\"` to uppercase and save the result in another file `\"uppercase_notes.txt\"`.\n",
    "\n",
    "```python\n",
    "# Exercise 30\n",
    "```\n",
    "\n",
    "---\n",
    "\n",
    "### Exercise 31:\n",
    "Write a Python script that reads a file and removes all empty lines.\n",
    "\n",
    "```python\n",
    "# Exercise 31\n",
    "```\n",
    "\n",
    "---\n",
    "\n",
    "### Exercise 32:\n",
    "Open a file `\"config.txt\"` in both read and write mode.\n",
    "\n",
    "```python\n",
    "# Exercise 32\n",
    "```\n",
    "\n",
    "---\n",
    "\n",
    "### Exercise 33:\n",
    "Write a Python function that reads a file and prints the longest line in the file.\n",
    "\n",
    "```python\n",
    "# Exercise 33\n",
    "```\n",
    "\n",
    "---\n",
    "\n",
    "### Exercise 34:\n",
    "Write a Python script to count the frequency of each letter in a text file `\"message.txt\"`.\n",
    "\n",
    "```python\n",
    "# Exercise 34\n",
    "```\n",
    "\n",
    "---\n",
    "\n",
    "### Exercise 35:\n",
    "Write a Python script that reads a file and prints the total number of characters, excluding spaces.\n",
    "\n",
    "```python\n",
    "# Exercise 35\n",
    "```\n",
    "\n",
    "---\n",
    "\n",
    "### Exercise 36:\n",
    "Create a Python script to check whether a file is empty or not.\n",
    "\n",
    "```python\n",
    "# Exercise 36\n",
    "```\n",
    "\n",
    "---\n",
    "\n",
    "### Exercise 37:\n",
    "Write a Python function that reads a file and removes all punctuation marks from the text.\n",
    "\n",
    "```python\n",
    "# Exercise 37\n",
    "```\n",
    "\n",
    "---\n",
    "\n",
    "### Exercise 38:\n",
    "Create a Python function that writes a list of strings to a file, each string on a new line.\n",
    "\n",
    "```python\n",
    "# Exercise 38\n",
    "```\n",
    "\n",
    "---\n",
    "\n",
    "### Exercise 39:\n",
    "Write a Python script to count the number of lines that start with a specific letter (e.g., \"A\") in a text file.\n",
    "\n",
    "```python\n",
    "# Exercise 39\n",
    "```\n",
    "\n",
    "---\n",
    "\n",
    "### Exercise 40:\n",
    "Write a Python function that takes a string as input and writes it to a file `\"output.txt\"` in reverse order.\n",
    "\n",
    "```python\n",
    "# Exercise 40\n",
    "```\n",
    "\n",
    "---\n",
    "\n",
    "### Exercise 41:\n",
    "Write a Python script that reads a file and prints all the lines that contain the word `\"Python\"`.\n",
    "\n",
    "```python\n",
    "# Exercise 41\n",
    "```\n",
    "\n",
    "---\n",
    "\n",
    "### Exercise 42:\n",
    "Write a Python script that opens a file and removes all numeric digits from the file's content.\n",
    "\n",
    "```python\n",
    "# Exercise 42\n",
    "```\n",
    "\n",
    "---\n",
    "\n",
    "### Exercise 43:\n",
    "Write a Python script to find the most frequent word in a text file `\"book.txt\"`.\n",
    "\n",
    "```python\n",
    "# Exercise 43\n",
    "```\n",
    "\n",
    "---\n",
    "\n",
    "### Exercise 44:\n",
    "Write a Python script that reads a file and prints all the lines that contain exactly 5 words.\n",
    "\n",
    "```python\n",
    "# Exercise 44\n",
    "```\n",
    "\n",
    "---\n",
    "\n",
    "### Exercise 45:\n",
    "Write a Python script to read a file and print the first and last line of the file.\n",
    "\n",
    "```python\n",
    "# Exercise 45\n",
    "```\n",
    "\n",
    "---\n",
    "\n",
    "### Exercise 46:\n",
    "Write a Python script that checks if a file `\"students.txt\"` is writable.\n",
    "\n",
    "```python\n",
    "# Exercise 46\n",
    "```\n",
    "\n",
    "---\n",
    "\n",
    "### Exercise 47:\n",
    "Create a Python function that opens a file and returns the number of unique words in the file.\n",
    "\n",
    "```python\n",
    "# Exercise 47\n",
    "```\n",
    "\n",
    "---\n",
    "\n",
    "### Exercise 48:\n",
    "Write a Python script that reads a file and prints all lines in reverse order.\n",
    "\n",
    "```python\n",
    "# Exercise 48\n",
    "```\n",
    "\n",
    "---\n",
    "\n",
    "### Exercise 49:\n",
    "Write a Python function that reads a file and returns the most common letter in the text.\n",
    "\n",
    "```python\n",
    "# Exercise 49\n",
    "```\n",
    "\n",
    "---\n",
    "\n",
    "### Exercise 50:\n",
    "Write a Python script that reads a file and replaces every occurrence of `\"Python\"` with `\"Java\"`.\n",
    "\n",
    "```python\n",
    "# Exercise 50\n",
    "```\n",
    "\n",
    "---\n",
    "\n"
   ]
  },
  {
   "cell_type": "markdown",
   "id": "d68c1dee",
   "metadata": {
    "id": "d68c1dee"
   },
   "source": [
    "# Practical_2: String and files"
   ]
  },
  {
   "cell_type": "code",
   "execution_count": null,
   "id": "dcf6ca38",
   "metadata": {
    "id": "dcf6ca38"
   },
   "outputs": [],
   "source": []
  }
 ],
 "metadata": {
  "colab": {
   "provenance": []
  },
  "kernelspec": {
   "display_name": "Python 3 (ipykernel)",
   "language": "python",
   "name": "python3"
  },
  "language_info": {
   "codemirror_mode": {
    "name": "ipython",
    "version": 3
   },
   "file_extension": ".py",
   "mimetype": "text/x-python",
   "name": "python",
   "nbconvert_exporter": "python",
   "pygments_lexer": "ipython3",
   "version": "3.12.7"
  }
 },
 "nbformat": 4,
 "nbformat_minor": 5
}
